{
 "cells": [
  {
   "cell_type": "markdown",
   "metadata": {
    "application/vnd.databricks.v1+cell": {
     "cellMetadata": {},
     "inputWidgets": {},
     "nuid": "91b25b2e-40fc-482a-a62f-57b7590b5a0a",
     "showTitle": false,
     "title": ""
    }
   },
   "source": [
    "\n",
    "###*Pontificia Universidad Javeriana*\n",
    "\n",
    "**Fecha**: 3 de abril 2024\n",
    "\n",
    "**Profesor**: John Corredor, PhD\n",
    "\n",
    "**Materia**: Procesamiento de Alto Volumen de Datos\n",
    "\n",
    "**Objetivo**: Primera entrega proyectyo\n",
    "\n",
    "###**Nombres de los Estudiantes**: \n",
    "\n",
    "- Juan Sebastian Cordoba Valderrama\n",
    "\n",
    "- Samuel Peña Garcia\n",
    "\n",
    "- Tomas de Aza Marquez"
   ]
  },
  {
   "cell_type": "code",
   "execution_count": 21,
   "metadata": {
    "application/vnd.databricks.v1+cell": {
     "cellMetadata": {
      "byteLimit": 2048000,
      "rowLimit": 10000
     },
     "inputWidgets": {},
     "nuid": "a29039e3-4368-446b-9c06-aba7e9c0f392",
     "showTitle": false,
     "title": ""
    }
   },
   "outputs": [],
   "source": [
    "##Importar librerias a utilizar\n",
    "\n",
    "from pyspark import SparkContext\n",
    "from pyspark.sql import *\n",
    "from pyspark.sql.functions import *\n",
    "from pyspark.sql.types import *\n",
    "import pandas as pd\n",
    "import os\n",
    "import spark"
   ]
  },
  {
   "cell_type": "code",
   "execution_count": 22,
   "metadata": {
    "application/vnd.databricks.v1+cell": {
     "cellMetadata": {
      "byteLimit": 2048000,
      "rowLimit": 10000
     },
     "inputWidgets": {},
     "nuid": "91b033ed-1120-490d-8976-7f9d623a60bf",
     "showTitle": false,
     "title": ""
    }
   },
   "outputs": [
    {
     "name": "stderr",
     "output_type": "stream",
     "text": [
      "C:\\Users\\jusec\\AppData\\Local\\Packages\\PythonSoftwareFoundation.Python.3.11_qbz5n2kfra8p0\\LocalCache\\local-packages\\Python311\\site-packages\\pyspark\\sql\\context.py:113: FutureWarning: Deprecated in 3.0.0. Use SparkSession.builder.getOrCreate() instead.\n",
      "  warnings.warn(\n"
     ]
    },
    {
     "data": {
      "text/html": [
       "\n",
       "        <div>\n",
       "            <p><b>SparkContext</b></p>\n",
       "\n",
       "            <p><a href=\"http://SebastianPCMR:4040\">Spark UI</a></p>\n",
       "\n",
       "            <dl>\n",
       "              <dt>Version</dt>\n",
       "                <dd><code>v3.5.1</code></dd>\n",
       "              <dt>Master</dt>\n",
       "                <dd><code>local[*]</code></dd>\n",
       "              <dt>AppName</dt>\n",
       "                <dd><code>pyspark-shell</code></dd>\n",
       "            </dl>\n",
       "        </div>\n",
       "        "
      ],
      "text/plain": [
       "<SparkContext master=local[*] appName=pyspark-shell>"
      ]
     },
     "execution_count": 22,
     "metadata": {},
     "output_type": "execute_result"
    }
   ],
   "source": [
    "##Se instancia Pyspark\n",
    "sc = SparkContext.getOrCreate()\n",
    "sql_sc = SQLContext(sc)\n",
    "sc"
   ]
  },
  {
   "cell_type": "code",
   "execution_count": 23,
   "metadata": {},
   "outputs": [],
   "source": [
    "from pyspark.sql import SparkSession\n",
    "\n",
    "# Iniciar una SparkSession\n",
    "spark = SparkSession.builder \\\n",
    "    .appName(\"Mi Aplicación\") \\\n",
    "    .getOrCreate()\n"
   ]
  },
  {
   "cell_type": "code",
   "execution_count": 24,
   "metadata": {
    "application/vnd.databricks.v1+cell": {
     "cellMetadata": {
      "byteLimit": 2048000,
      "rowLimit": 10000
     },
     "inputWidgets": {},
     "nuid": "3f256181-f695-41d3-a39f-cd8d6c7cfe32",
     "showTitle": false,
     "title": ""
    }
   },
   "outputs": [
    {
     "name": "stdout",
     "output_type": "stream",
     "text": [
      "+----------+-----------+-----+--------------------+-----+--------------------+----------+----------+-----------+---------------+-----------------+---------+--------+---------+----------+----------+----------------+-----------------+------------------------+\n",
      "|ARREST_KEY|ARREST_DATE|PD_CD|             PD_DESC|KY_CD|           OFNS_DESC|  LAW_CODE|LAW_CAT_CD|ARREST_BORO|ARREST_PRECINCT|JURISDICTION_CODE|AGE_GROUP|PERP_SEX|PERP_RACE|X_COORD_CD|Y_COORD_CD|        Latitude|        Longitude|New Georeferenced Column|\n",
      "+----------+-----------+-----+--------------------+-----+--------------------+----------+----------+-----------+---------------+-----------------+---------+--------+---------+----------+----------+----------------+-----------------+------------------------+\n",
      "| 261265483| 01/03/2023|397.0|ROBBERY,OPEN AREA...|105.0|             ROBBERY|PL 1600500|         F|          B|             49|                0|    18-24|       M|    BLACK|   1027430|    251104|       40.855793|       -73.843908|    POINT (-73.843908...|\n",
      "| 261271301| 01/03/2023|105.0|   STRANGULATION 1ST|106.0|      FELONY ASSAULT|PL 1211200|         F|          S|            120|                0|    25-44|       M|    WHITE|    962808|    174275|       40.644996|       -74.077263|    POINT (-74.077263...|\n",
      "| 261336449| 01/04/2023|397.0|ROBBERY,OPEN AREA...|105.0|             ROBBERY|PL 1601001|         F|          K|             61|                0|      <18|       M|    BLACK|    995118|    155708|       40.594054|       -73.960866|    POINT (-73.960866...|\n",
      "| 261328047| 01/04/2023|105.0|   STRANGULATION 1ST|106.0|      FELONY ASSAULT|PL 1211200|         F|          Q|            114|                0|    18-24|       M|    BLACK|   1007694|    219656|       40.769552|       -73.915361|    POINT (-73.915361...|\n",
      "| 261417496| 01/05/2023|244.0|BURGLARY,UNCLASSI...|107.0|            BURGLARY|PL 1402000|         F|          B|             44|                0|    25-44|       F|    BLACK|   1007174|    239542|       40.824135|        -73.91717|    POINT (-73.91717 ...|\n",
      "| 261583093| 01/08/2023|109.0|ASSAULT 2,1,UNCLA...|106.0|      FELONY ASSAULT|PL 1200502|         F|          K|             76|                0|    25-44|       M|    BLACK|    984110|    188363|       40.683691|       -74.000504|    POINT (-74.000504...|\n",
      "| 261611504| 01/09/2023|263.0|         ARSON 2,3,4|114.0|               ARSON|PL 1501500|         F|          B|             49|               71|    25-44|       M|    WHITE|   1028555|    246897|        40.84424|       -73.839868|    POINT (-73.839868...|\n",
      "| 261892107| 01/14/2023|109.0|ASSAULT 2,1,UNCLA...|106.0|      FELONY ASSAULT|PL 1200501|         F|          K|             90|                0|    25-44|       M|    BLACK|    996541|    199439|       40.714082|       -73.955662|    POINT (-73.955662...|\n",
      "| 261926460| 01/14/2023|263.0|         ARSON 2,3,4|114.0|               ARSON|PL 1501001|         F|          K|             63|                0|    25-44|       M|    BLACK|   1000520|    168264|       40.628508|       -73.941384|    POINT (-73.941384...|\n",
      "| 262973934| 02/03/2023|105.0|   STRANGULATION 1ST|106.0|      FELONY ASSAULT|PL 1211200|         F|          M|             34|                0|    25-44|       M|    BLACK|   1003818|    253167|       40.861538|       -73.929256|    POINT (-73.929256...|\n",
      "| 263113943| 02/06/2023|109.0|ASSAULT 2,1,UNCLA...|106.0|      FELONY ASSAULT|PL 1200501|         F|          B|             44|                0|    45-64|       F|    BLACK|   1010036|    246475|       40.843155|       -73.906802|    POINT (-73.906802...|\n",
      "| 264092077| 02/23/2023|105.0|   STRANGULATION 1ST|106.0|      FELONY ASSAULT|PL 1211300|         F|          Q|            105|                0|    25-44|       F|    BLACK|   1057766|    203992|       40.726284|        -73.73476|    POINT (-73.73476 ...|\n",
      "| 261635779| 01/10/2023|105.0|   STRANGULATION 1ST|106.0|      FELONY ASSAULT|PL 1211200|         F|          Q|            101|                0|    18-24|       M|    BLACK|   1050620|    157860|       40.599718|       -73.760999|    POINT (-73.760999...|\n",
      "| 261739896| 01/11/2023|205.0|TRESPASS 2, CRIMINAL|352.0|   CRIMINAL TRESPASS|PL 1401502|         M|          K|             88|                0|    18-24|       F|    BLACK|    991150|    192509|       40.695068|       -73.975116|    POINT (-73.975116...|\n",
      "| 264206386| 02/25/2023|105.0|   STRANGULATION 1ST|106.0|      FELONY ASSAULT|PL 1211200|         F|          K|             63|                0|    45-64|       M|    BLACK|   1000520|    168264|       40.628508|       -73.941384|    POINT (-73.941384...|\n",
      "| 261361209| 01/04/2023|101.0|           ASSAULT 3|344.0|ASSAULT 3 & RELAT...|PL 1200001|         M|          B|             40|                0|    18-24|       F|    BLACK|   1007528|    234117|       40.809243|       -73.915909|    POINT (-73.915909...|\n",
      "| 264544903| 03/04/2023|105.0|   STRANGULATION 1ST|106.0|      FELONY ASSAULT|PL 1211200|         F|          Q|            114|                0|    25-44|       M|    BLACK|   1007694|    219656|       40.769552|       -73.915361|    POINT (-73.915361...|\n",
      "| 262362107| 01/23/2023|397.0|ROBBERY,OPEN AREA...|105.0|             ROBBERY|PL 1600500|         F|          B|             47|                0|    25-44|       M|    BLACK|   1026486|    262591|       40.887325|       -73.847247|    POINT (-73.847247...|\n",
      "| 262497973| 01/25/2023|153.0|              RAPE 3|104.0|                RAPE|PL 1302501|         F|          B|             52|                0|      <18|       M|    BLACK|   1017478|    256069|40.8694704770483|-73.8798608037303|    POINT (-73.879860...|\n",
      "| 262813012| 02/01/2023|729.0|FORGERY,ETC.,UNCL...|113.0|             FORGERY|PL 1701501|         F|          Q|            109|                0|    25-44|       F|    WHITE|   1037103|    209141|     40.74056238|     -73.80927199|    POINT (-73.809271...|\n",
      "+----------+-----------+-----+--------------------+-----+--------------------+----------+----------+-----------+---------------+-----------------+---------+--------+---------+----------+----------+----------------+-----------------+------------------------+\n",
      "only showing top 20 rows\n",
      "\n"
     ]
    }
   ],
   "source": [
    "path = 'https://raw.githubusercontent.com/TommyDS2005/Proyecto-Procesamiento-de-Datos/main/NYPD_Arrest_Data__Year_to_Date__20240322.csv'\n",
    "\n",
    "df = pd.read_csv(path, sep=',')\n",
    "\n",
    "df = spark. createDataFrame(df)\n",
    "\n",
    "# Muestra las primeras filas del DataFrame de Spark para verificar\n",
    "df.show()"
   ]
  },
  {
   "cell_type": "code",
   "execution_count": 25,
   "metadata": {
    "application/vnd.databricks.v1+cell": {
     "cellMetadata": {
      "byteLimit": 2048000,
      "rowLimit": 10000
     },
     "inputWidgets": {},
     "nuid": "fdb1bea2-46e0-4539-aa6d-69521c66197c",
     "showTitle": false,
     "title": ""
    }
   },
   "outputs": [
    {
     "name": "stdout",
     "output_type": "stream",
     "text": [
      "root\n",
      " |-- ARREST_KEY: long (nullable = true)\n",
      " |-- ARREST_DATE: string (nullable = true)\n",
      " |-- PD_CD: double (nullable = true)\n",
      " |-- PD_DESC: string (nullable = true)\n",
      " |-- KY_CD: double (nullable = true)\n",
      " |-- OFNS_DESC: string (nullable = true)\n",
      " |-- LAW_CODE: string (nullable = true)\n",
      " |-- LAW_CAT_CD: string (nullable = true)\n",
      " |-- ARREST_BORO: string (nullable = true)\n",
      " |-- ARREST_PRECINCT: long (nullable = true)\n",
      " |-- JURISDICTION_CODE: long (nullable = true)\n",
      " |-- AGE_GROUP: string (nullable = true)\n",
      " |-- PERP_SEX: string (nullable = true)\n",
      " |-- PERP_RACE: string (nullable = true)\n",
      " |-- X_COORD_CD: long (nullable = true)\n",
      " |-- Y_COORD_CD: long (nullable = true)\n",
      " |-- Latitude: double (nullable = true)\n",
      " |-- Longitude: double (nullable = true)\n",
      " |-- New Georeferenced Column: string (nullable = true)\n",
      "\n"
     ]
    }
   ],
   "source": [
    "##Tipos de datos.\n",
    "df.printSchema()"
   ]
  },
  {
   "cell_type": "markdown",
   "metadata": {
    "application/vnd.databricks.v1+cell": {
     "cellMetadata": {},
     "inputWidgets": {},
     "nuid": "3a1d7457-cab1-4a58-b060-603542f920ca",
     "showTitle": false,
     "title": ""
    }
   },
   "source": [
    "\n",
    "###Significado de cada atributo\n",
    "\n",
    "ARREST_KEY: Identificador único y persistente generado aleatoriamente para cada arresto. Tipo de dato texto plano.\n",
    "\n",
    "ARREST_DATE: Fecha exacta del arresto del evento reportado. Tipo de dato fecha y hora.\n",
    "\n",
    "PD_CD: Código de clasificación interna de tres dígitos (más detallado que el Código Clave). Tipo de dato número.\n",
    "\n",
    "PD_DESC: Descripción de la clasificación interna que corresponde con el código PD (más detallada que la Descripción de la Ofensa). Tipo de dato texto plano.\n",
    "\n",
    "KY_CD: Código de clasificación interna de tres dígitos (categoría más general que el código PD). Tipo de dato número.\n",
    "\n",
    "OFNS_DESC: Descripción de la clasificación interna que corresponde con el código KY (categoría más general que la descripción PD). Tipo de dato texto plano.\n",
    "\n",
    "LAW_CODE: Códigos de la ley correspondientes al Código Penal de Nueva York, VTL y otras leyes locales diversas. Tipo de dato texto plano.\n",
    "\n",
    "LAW_CAT_CD: Nivel del delito: delito mayor (felony), delito menor (misdemeanor), infracción (violation). Tipo de dato texto plano.\n",
    "\n",
    "ARREST_BORO: Barrio del arresto. B (Bronx), S (Staten Island), K (Brooklyn), M (Manhattan), Q (Queens). Tipo de dato texto plano.\n",
    "\n",
    "ARREST_PRECINCT: Precinto donde ocurrió el arresto. Tipo de dato número.\n",
    "\n",
    "JURISDICTION_CODE: Código de jurisdicción responsable del arresto. Los códigos de jurisdicción 0 (Patrulla), 1 (Tránsito) y 2 (Vivienda) representan al NYPD, mientras que los códigos 3 en adelante representan jurisdicciones ajenas al NYPD. Tipo de dato número.\n",
    "\n",
    "AGE_GROUP: Edad del perpetrador dentro de una categoría establecida. Tipo de dato texto plano.\n",
    "\n",
    "PERP_SEX: Descripción del sexo del perpetrador. Tipo de dato texto plano.\n",
    "\n",
    "PERP_RACE: Descripción de la raza del perpetrador. Tipo de dato texto plano.\n",
    "\n",
    "X_COORD_CD: Coordenada X del punto medio de la cuadra para el Sistema de Coordenadas Planas del Estado de Nueva York, Zona de Long Island, NAD 83, unidades en pies (FIPS 3104). Tipo de dato número.\n",
    "\n",
    "Y_COORD_CD: Coordenada Y del punto medio de la cuadra para el Sistema de Coordenadas Planas del Estado de Nueva York, Zona de Long Island, NAD 83, unidades en pies (FIPS 3104). Tipo de dato número.\n",
    "\n",
    "Latitude: Coordenada de latitud para el Sistema de Coordenadas Global, WGS 1984, grados decimales (EPSG 4326). Tipo de dato número.\n",
    "\n",
    "Longitude: Coordenada de longitud para el Sistema de Coordenadas Global, WGS 1984, grados decimales (EPSG 4326). Tipo de dato número."
   ]
  },
  {
   "cell_type": "markdown",
   "metadata": {
    "application/vnd.databricks.v1+cell": {
     "cellMetadata": {},
     "inputWidgets": {},
     "nuid": "ed7aa8a5-9629-4efe-8643-dee08a81fa41",
     "showTitle": false,
     "title": ""
    }
   },
   "source": [
    "\n",
    "###Descripcion del dataset\n",
    "\n",
    "Este conjunto de datos contiene registros detallados de arrestos efectuados por el Departamento de Policía de Nueva York (NYPD) durante el año en curso, incluyendo información demográfica del detenido, el tipo de delito, la ubicación exacta y la fecha del arresto, así como el código y descripción de la ley asociada con el arresto.\n"
   ]
  },
  {
   "cell_type": "code",
   "execution_count": 26,
   "metadata": {
    "application/vnd.databricks.v1+cell": {
     "cellMetadata": {
      "byteLimit": 2048000,
      "rowLimit": 10000
     },
     "inputWidgets": {},
     "nuid": "82f407f7-dd28-4cb3-a7e0-e043231297e8",
     "showTitle": false,
     "title": ""
    }
   },
   "outputs": [
    {
     "name": "stdout",
     "output_type": "stream",
     "text": [
      "El conjunto de datos cuenta con 226872 filas y 19 columnas\n"
     ]
    }
   ],
   "source": [
    "####Exploracionde datos\n",
    "\n",
    "##Identificar a forma del dataset\n",
    "print(\"El conjunto de datos cuenta con \" + str(df.count()) + \" filas y \" + str(len(df.columns)) + \" columnas\")"
   ]
  },
  {
   "cell_type": "code",
   "execution_count": 27,
   "metadata": {
    "application/vnd.databricks.v1+cell": {
     "cellMetadata": {
      "byteLimit": 2048000,
      "rowLimit": 10000
     },
     "inputWidgets": {},
     "nuid": "555ced31-b5f4-4dc9-a7f6-02d547b07462",
     "showTitle": false,
     "title": ""
    }
   },
   "outputs": [
    {
     "name": "stdout",
     "output_type": "stream",
     "text": [
      "+----------+-----------+-----+-------+-----+---------+--------+----------+-----------+---------------+-----------------+---------+--------+---------+----------+----------+--------+---------+------------------------+\n",
      "|ARREST_KEY|ARREST_DATE|PD_CD|PD_DESC|KY_CD|OFNS_DESC|LAW_CODE|LAW_CAT_CD|ARREST_BORO|ARREST_PRECINCT|JURISDICTION_CODE|AGE_GROUP|PERP_SEX|PERP_RACE|X_COORD_CD|Y_COORD_CD|Latitude|Longitude|New Georeferenced Column|\n",
      "+----------+-----------+-----+-------+-----+---------+--------+----------+-----------+---------------+-----------------+---------+--------+---------+----------+----------+--------+---------+------------------------+\n",
      "|         0|          0|    2|      0|   17|        0|       0|      1599|          0|              0|                0|        0|       0|        0|         0|         0|       0|        0|                       0|\n",
      "+----------+-----------+-----+-------+-----+---------+--------+----------+-----------+---------------+-----------------+---------+--------+---------+----------+----------+--------+---------+------------------------+\n",
      "\n"
     ]
    }
   ],
   "source": [
    "###Verificar si existen valores nulos en el dataset\n",
    "df.select([count(when(isnan(c) | col(c).isNull() , c)).alias(c) for c in df.columns]).show()"
   ]
  },
  {
   "cell_type": "code",
   "execution_count": 28,
   "metadata": {
    "application/vnd.databricks.v1+cell": {
     "cellMetadata": {
      "byteLimit": 2048000,
      "rowLimit": 10000
     },
     "inputWidgets": {},
     "nuid": "fad05647-4750-4b41-8740-6efc1ff2a924",
     "showTitle": false,
     "title": ""
    }
   },
   "outputs": [
    {
     "name": "stdout",
     "output_type": "stream",
     "text": [
      "+-----+--------------------+----------+----------+\n",
      "|PD_CD|             PD_DESC|  LAW_CODE|LAW_CAT_CD|\n",
      "+-----+--------------------+----------+----------+\n",
      "| 49.0|U.S. CODE UNCLASS...|FOA9000049|       NaN|\n",
      "| 49.0|U.S. CODE UNCLASS...|FOA9000049|       NaN|\n",
      "| 49.0|U.S. CODE UNCLASS...|FOA9000049|       NaN|\n",
      "| 49.0|U.S. CODE UNCLASS...|FOA9000049|       NaN|\n",
      "| 15.0|FUGITIVE/OTHER JU...|FOA9000015|       NaN|\n",
      "| 49.0|U.S. CODE UNCLASS...|FOA9000049|       NaN|\n",
      "| 29.0|NYS PAROLE VIOLATION|FOA9000029|       NaN|\n",
      "| 49.0|U.S. CODE UNCLASS...|FOA9000049|       NaN|\n",
      "| 49.0|U.S. CODE UNCLASS...|FOA9000049|       NaN|\n",
      "| 49.0|U.S. CODE UNCLASS...|FOA9000049|       NaN|\n",
      "| 49.0|U.S. CODE UNCLASS...|FOA9000049|       NaN|\n",
      "| 49.0|U.S. CODE UNCLASS...|FOA9000049|       NaN|\n",
      "| 49.0|U.S. CODE UNCLASS...|FOA9000049|       NaN|\n",
      "| 49.0|U.S. CODE UNCLASS...|FOA9000049|       NaN|\n",
      "| 16.0|FUGITIVE/OTHER ST...|FOA9000016|       NaN|\n",
      "| 49.0|U.S. CODE UNCLASS...|FOA9000049|       NaN|\n",
      "| 49.0|U.S. CODE UNCLASS...|FOA9000049|       NaN|\n",
      "| 49.0|U.S. CODE UNCLASS...|FOA9000049|       NaN|\n",
      "| 49.0|U.S. CODE UNCLASS...|FOA9000049|       NaN|\n",
      "| 49.0|U.S. CODE UNCLASS...|FOA9000049|       NaN|\n",
      "+-----+--------------------+----------+----------+\n",
      "only showing top 20 rows\n",
      "\n"
     ]
    }
   ],
   "source": [
    "#Se busca un patron dentro de las variables directamente relacionadas en el dataset para rellenar valores nulos de la variable \"LAW_CAT_CD\"\n",
    "\n",
    "df.filter(isnan(\"LAW_CAT_CD\") | col(\"LAW_CAT_CD\").isNull()).select(\"PD_CD\",\"PD_DESC\",\"LAW_CODE\",\"LAW_CAT_CD\").show()\n"
   ]
  },
  {
   "cell_type": "code",
   "execution_count": 29,
   "metadata": {
    "application/vnd.databricks.v1+cell": {
     "cellMetadata": {
      "byteLimit": 2048000,
      "rowLimit": 10000
     },
     "inputWidgets": {},
     "nuid": "07d54228-f1da-4e7f-a4f2-69d1669cda3a",
     "showTitle": false,
     "title": ""
    }
   },
   "outputs": [],
   "source": [
    "#Nos remitimos a la dcoumentacion y observamos que para este tipo de ley, son leyes para autoridades fuera de la policia de nueva york, por lo tanto se le asignara un valor (NC: not classified) consiguiente,ya que no se conoce con certeza el nivel de gravedad del delito\n",
    "\n",
    "df = df.withColumn(\"LAW_CAT_CD\", when((isnan(\"LAW_CAT_CD\") | col(\"LAW_CAT_CD\").isNull()),\"NC\").otherwise(df[\"LAW_CAT_CD\"]))\n"
   ]
  },
  {
   "cell_type": "code",
   "execution_count": 30,
   "metadata": {
    "application/vnd.databricks.v1+cell": {
     "cellMetadata": {
      "byteLimit": 2048000,
      "rowLimit": 10000
     },
     "inputWidgets": {},
     "nuid": "10de51af-9a62-48c6-a51e-4e8e76901d29",
     "showTitle": false,
     "title": ""
    }
   },
   "outputs": [
    {
     "name": "stdout",
     "output_type": "stream",
     "text": [
      "+----------+-----------+-----+-------+-----+---------+--------+----------+-----------+---------------+-----------------+---------+--------+---------+----------+----------+--------+---------+------------------------+\n",
      "|ARREST_KEY|ARREST_DATE|PD_CD|PD_DESC|KY_CD|OFNS_DESC|LAW_CODE|LAW_CAT_CD|ARREST_BORO|ARREST_PRECINCT|JURISDICTION_CODE|AGE_GROUP|PERP_SEX|PERP_RACE|X_COORD_CD|Y_COORD_CD|Latitude|Longitude|New Georeferenced Column|\n",
      "+----------+-----------+-----+-------+-----+---------+--------+----------+-----------+---------------+-----------------+---------+--------+---------+----------+----------+--------+---------+------------------------+\n",
      "|         0|          0|    0|      0|    0|        0|       0|         0|          0|              0|                0|        0|       0|        0|         0|         0|       0|        0|                       0|\n",
      "+----------+-----------+-----+-------+-----+---------+--------+----------+-----------+---------------+-----------------+---------+--------+---------+----------+----------+--------+---------+------------------------+\n",
      "\n"
     ]
    }
   ],
   "source": [
    "##Eliminamos valores faltantes nulos irrelevantes\n",
    "df = df.na.drop(subset = [\"PD_CD\" , \"KY_CD\"])\n",
    "\n",
    "\n",
    "###Verificar si existen valores nulos en el dataset\n",
    "df.select([count(when(isnan(c) | col(c).isNull() , c)).alias(c) for c in df.columns]).show()\n"
   ]
  },
  {
   "cell_type": "code",
   "execution_count": 31,
   "metadata": {
    "application/vnd.databricks.v1+cell": {
     "cellMetadata": {
      "byteLimit": 2048000,
      "rowLimit": 10000
     },
     "inputWidgets": {},
     "nuid": "e31e9467-016c-4a82-b93e-1e8a6e6bad30",
     "showTitle": false,
     "title": ""
    }
   },
   "outputs": [
    {
     "data": {
      "text/plain": [
       "DataFrame[summary: string, ARREST_KEY: string, ARREST_DATE: string, PD_CD: string, PD_DESC: string, KY_CD: string, OFNS_DESC: string, LAW_CODE: string, LAW_CAT_CD: string, ARREST_BORO: string, ARREST_PRECINCT: string, JURISDICTION_CODE: string, AGE_GROUP: string, PERP_SEX: string, PERP_RACE: string, X_COORD_CD: string, Y_COORD_CD: string, Latitude: string, Longitude: string, New Georeferenced Column: string]"
      ]
     },
     "metadata": {},
     "output_type": "display_data"
    }
   ],
   "source": [
    "#Se hace un resumen estadisticos de la informacion\n",
    "display(df.describe())"
   ]
  },
  {
   "cell_type": "code",
   "execution_count": 32,
   "metadata": {
    "application/vnd.databricks.v1+cell": {
     "cellMetadata": {
      "byteLimit": 2048000,
      "rowLimit": 10000
     },
     "inputWidgets": {},
     "nuid": "bcc528d8-14fb-4ff9-9767-a696c1548f23",
     "showTitle": false,
     "title": ""
    }
   },
   "outputs": [
    {
     "name": "stdout",
     "output_type": "stream",
     "text": [
      "+-----+--------------------+----------+----------+\n",
      "|PD_CD|             PD_DESC|  LAW_CODE|LAW_CAT_CD|\n",
      "+-----+--------------------+----------+----------+\n",
      "|849.0|NY STATE LAWS,UNC...|CPL5700600|         9|\n",
      "|849.0|NY STATE LAWS,UNC...|CPL5700600|         9|\n",
      "|849.0|NY STATE LAWS,UNC...|CPL5700600|         9|\n",
      "|849.0|NY STATE LAWS,UNC...|CPL5700600|         9|\n",
      "|849.0|NY STATE LAWS,UNC...|CPL5700600|         9|\n",
      "|849.0|NY STATE LAWS,UNC...|CPL5700600|         9|\n",
      "|849.0|NY STATE LAWS,UNC...|CPL5700600|         9|\n",
      "|849.0|NY STATE LAWS,UNC...|CPL5700600|         9|\n",
      "|849.0|NY STATE LAWS,UNC...|CPL5700600|         9|\n",
      "|849.0|NY STATE LAWS,UNC...|CPL5700600|         9|\n",
      "|849.0|NY STATE LAWS,UNC...|CPL5700600|         9|\n",
      "|849.0|NY STATE LAWS,UNC...|CPL5700600|         9|\n",
      "|849.0|NY STATE LAWS,UNC...|CPL5700600|         9|\n",
      "|849.0|NY STATE LAWS,UNC...|CPL5700600|         9|\n",
      "|849.0|NY STATE LAWS,UNC...|CPL5700600|         9|\n",
      "|849.0|NY STATE LAWS,UNC...|CPL5700600|         9|\n",
      "|849.0|NY STATE LAWS,UNC...|CPL5700600|         9|\n",
      "|849.0|NY STATE LAWS,UNC...|CPL5700600|         9|\n",
      "|849.0|NY STATE LAWS,UNC...|CPL5700600|         9|\n",
      "|849.0|NY STATE LAWS,UNC...|CPL5700600|         9|\n",
      "+-----+--------------------+----------+----------+\n",
      "only showing top 20 rows\n",
      "\n"
     ]
    }
   ],
   "source": [
    "#Parece exisitir un error de digitacion en la variable \"LAW_CAT_CD\" se debe buscar\n",
    "filtered_df = df.filter(df[\"LAW_CAT_CD\"]==\"9\").select(\"PD_CD\",\"PD_DESC\",\"LAW_CODE\",\"LAW_CAT_CD\")\n",
    "filtered_df.show()"
   ]
  },
  {
   "cell_type": "code",
   "execution_count": 33,
   "metadata": {
    "application/vnd.databricks.v1+cell": {
     "cellMetadata": {
      "byteLimit": 2048000,
      "rowLimit": 10000
     },
     "inputWidgets": {},
     "nuid": "41ef3cac-6959-433b-a515-96b802931c89",
     "showTitle": false,
     "title": ""
    }
   },
   "outputs": [
    {
     "data": {
      "text/plain": [
       "611"
      ]
     },
     "execution_count": 33,
     "metadata": {},
     "output_type": "execute_result"
    }
   ],
   "source": [
    "#Se mira la cantidad de registros con el error\n",
    "\n",
    "filtered_df.count()"
   ]
  },
  {
   "cell_type": "code",
   "execution_count": 34,
   "metadata": {
    "application/vnd.databricks.v1+cell": {
     "cellMetadata": {
      "byteLimit": 2048000,
      "rowLimit": 10000
     },
     "inputWidgets": {},
     "nuid": "a61b0573-fa7f-4fde-b08d-a7d490b81b6c",
     "showTitle": false,
     "title": ""
    }
   },
   "outputs": [],
   "source": [
    "#Se decide asignar el valor asociado a la descripcion \"UV:uncalssified violnece\" Ya que no esta dentro de la misma serie de leyes que NC: not classified, y no se puede realizar una asociacion directa de una con otra \n",
    "\n",
    "df = df.withColumn(\"LAW_CAT_CD\", when(df[\"LAW_CAT_CD\"] == \"9\", \"UV\").otherwise(df[\"LAW_CAT_CD\"]))"
   ]
  },
  {
   "cell_type": "code",
   "execution_count": 35,
   "metadata": {
    "application/vnd.databricks.v1+cell": {
     "cellMetadata": {
      "byteLimit": 2048000,
      "rowLimit": 10000
     },
     "inputWidgets": {},
     "nuid": "104cda5d-a637-4c96-bcd1-0a1095c8c192",
     "showTitle": false,
     "title": ""
    }
   },
   "outputs": [
    {
     "name": "stdout",
     "output_type": "stream",
     "text": [
      "+---+\n",
      "|Mes|\n",
      "+---+\n",
      "| 07|\n",
      "| 11|\n",
      "| 01|\n",
      "| 09|\n",
      "| 05|\n",
      "| 08|\n",
      "| 03|\n",
      "| 02|\n",
      "| 06|\n",
      "| 10|\n",
      "| 12|\n",
      "| 04|\n",
      "+---+\n",
      "\n"
     ]
    }
   ],
   "source": [
    "#Ya que los datos son del año 2023 se extraera el mes para manejar los arrestos en diferentes periodos del año\n",
    "\n",
    "df = df.withColumn(\"Mes\", regexp_extract(col('ARREST_DATE'), \"^(0[1-9]|1[0-2])\\/\", 1))\n",
    "\n",
    "df.select(\"Mes\").distinct().show()"
   ]
  },
  {
   "cell_type": "code",
   "execution_count": 36,
   "metadata": {
    "application/vnd.databricks.v1+cell": {
     "cellMetadata": {
      "byteLimit": 2048000,
      "rowLimit": 10000
     },
     "inputWidgets": {},
     "nuid": "3caee03d-d10b-42de-ad16-91ac432cf125",
     "showTitle": false,
     "title": ""
    }
   },
   "outputs": [
    {
     "name": "stdout",
     "output_type": "stream",
     "text": [
      "Mapping de LAW_CAT_CD a índices: ['M', 'F', 'NC', 'V', 'UV', 'I']\n",
      "Mapping de ARREST_BORO a índices: ['K', 'B', 'M', 'Q', 'S']\n",
      "Mapping de ARREST_PRECINCT a índices: ['14', '75', '44', '40', '103', '46', '52', '43', '73', '120', '113', '110', '47', '25', '109', '42', '48', '105', '67', '18', '114', '115', '41', '60', '79', '84', '102', '70', '5', '72', '45', '77', '106', '13', '34', '83', '49', '121', '90', '71', '32', '23', '1', '63', '107', '28', '62', '6', '68', '108', '33', '7', '9', '104', '61', '81', '19', '10', '24', '69', '101', '78', '30', '122', '112', '50', '88', '66', '26', '94', '76', '20', '100', '123', '17', '111', '22']\n",
      "Mapping de AGE_GROUP a índices: ['25-44', '45-64', '18-24', '<18', '65+']\n",
      "Mapping de PERP_SEX a índices: ['M', 'F', 'U']\n",
      "Mapping de PERP_RACE a índices: ['BLACK', 'WHITE HISPANIC', 'BLACK HISPANIC', 'WHITE', 'ASIAN / PACIFIC ISLANDER', 'UNKNOWN', 'AMERICAN INDIAN/ALASKAN NATIVE']\n"
     ]
    }
   ],
   "source": [
    "##Se evidencian la necesidad de realizar imputacion a variables categoricas tales como: \"LAW_CAT_CD, ARREST_BORO, ARREST_PRECINT, AGE_GRUOP, PERP_SEX y PERP_RACE\"\n",
    "#Tambien paran simplicidad se separara la fecha para tomr solo el mes en una nueva variable llamda \"MONTH\"\n",
    "\n",
    "from pyspark.ml.feature import StringIndexer\n",
    "from pyspark.ml import Pipeline\n",
    "\n",
    "\n",
    "columnas = [\"LAW_CAT_CD\", \"ARREST_BORO\", \"ARREST_PRECINCT\", \"AGE_GROUP\", \"PERP_SEX\", \"PERP_RACE\"]\n",
    "for columna in columnas:\n",
    "    indexer = StringIndexer(inputCol=columna, outputCol=columna + \"Ind\")\n",
    "    model = indexer.fit(df)\n",
    "    df = model.transform(df)\n",
    "    print(f\"Mapping de {columna} a índices: {model.labels}\")\n"
   ]
  }
 ],
 "metadata": {
  "application/vnd.databricks.v1+notebook": {
   "dashboards": [],
   "language": "python",
   "notebookMetadata": {
    "pythonIndentUnit": 4
   },
   "notebookName": "Entrega 1 Proyecto Procesamiento de Datos",
   "widgets": {}
  },
  "kernelspec": {
   "display_name": "Python 3",
   "language": "python",
   "name": "python3"
  },
  "language_info": {
   "codemirror_mode": {
    "name": "ipython",
    "version": 3
   },
   "file_extension": ".py",
   "mimetype": "text/x-python",
   "name": "python",
   "nbconvert_exporter": "python",
   "pygments_lexer": "ipython3",
   "version": "3.11.9"
  }
 },
 "nbformat": 4,
 "nbformat_minor": 0
}
