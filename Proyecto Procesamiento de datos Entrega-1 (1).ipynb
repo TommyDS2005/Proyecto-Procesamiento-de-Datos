{
 "cells": [
  {
   "cell_type": "markdown",
   "metadata": {
    "application/vnd.databricks.v1+cell": {
     "cellMetadata": {},
     "inputWidgets": {},
     "nuid": "91b25b2e-40fc-482a-a62f-57b7590b5a0a",
     "showTitle": false,
     "title": ""
    }
   },
   "source": [
    "\n",
    "###*Pontificia Universidad Javeriana*\n",
    "\n",
    "**Fecha**: 3 de abril 2024\n",
    "\n",
    "**Profesor**: John Corredor, PhD\n",
    "\n",
    "**Materia**: Procesamiento de Alto Volumen de Datos\n",
    "\n",
    "**Objetivo**: Primera entrega proyectyo\n",
    "\n",
    "###**Nombres de los Estudiantes**: \n",
    "\n",
    "- Juan Sebastian Cordoba Valderrama\n",
    "\n",
    "- Samuel Peña Garcia\n",
    "\n",
    "- Tomas de Aza Marquez"
   ]
  },
  {
   "cell_type": "code",
   "execution_count": 0,
   "metadata": {
    "application/vnd.databricks.v1+cell": {
     "cellMetadata": {
      "byteLimit": 2048000,
      "rowLimit": 10000
     },
     "inputWidgets": {},
     "nuid": "a29039e3-4368-446b-9c06-aba7e9c0f392",
     "showTitle": false,
     "title": ""
    }
   },
   "outputs": [],
   "source": [
    "##Importar librerias a utilizar\n",
    "\n",
    "from pyspark import SparkContext\n",
    "from pyspark.sql import *\n",
    "from pyspark.sql.functions import *\n",
    "from pyspark.sql.types import *\n",
    "import pandas as pd\n",
    "import os"
   ]
  },
  {
   "cell_type": "code",
   "execution_count": 0,
   "metadata": {
    "application/vnd.databricks.v1+cell": {
     "cellMetadata": {
      "byteLimit": 2048000,
      "rowLimit": 10000
     },
     "inputWidgets": {},
     "nuid": "91b033ed-1120-490d-8976-7f9d623a60bf",
     "showTitle": false,
     "title": ""
    }
   },
   "outputs": [
    {
     "output_type": "stream",
     "name": "stderr",
     "output_type": "stream",
     "text": [
      "/databricks/spark/python/pyspark/sql/context.py:117: FutureWarning: Deprecated in 3.0.0. Use SparkSession.builder.getOrCreate() instead.\n  warnings.warn(\n"
     ]
    },
    {
     "output_type": "execute_result",
     "data": {
      "text/html": [
       "\n",
       "        <div>\n",
       "            <p><b>SparkContext</b></p>\n",
       "\n",
       "            <p><a href=\"/?o=463330069744532#setting/sparkui/0402-173553-e09san7u/driver-2276566515361828264\">Spark UI</a></p>\n",
       "\n",
       "            <dl>\n",
       "              <dt>Version</dt>\n",
       "                <dd><code>v3.5.1</code></dd>\n",
       "              <dt>Master</dt>\n",
       "                <dd><code>local[8]</code></dd>\n",
       "              <dt>AppName</dt>\n",
       "                <dd><code>Databricks Shell</code></dd>\n",
       "            </dl>\n",
       "        </div>\n",
       "        "
      ],
      "text/plain": [
       "<SparkContext master=local[8] appName=Databricks Shell>"
      ]
     },
     "execution_count": 43,
     "metadata": {},
     "output_type": "execute_result"
    }
   ],
   "source": [
    "##Se instancia Pyspark\n",
    "sc = SparkContext.getOrCreate()\n",
    "sql_sc = SQLContext(sc)\n",
    "sc"
   ]
  },
  {
   "cell_type": "code",
   "execution_count": 0,
   "metadata": {
    "application/vnd.databricks.v1+cell": {
     "cellMetadata": {
      "byteLimit": 2048000,
      "rowLimit": 10000
     },
     "inputWidgets": {},
     "nuid": "3f256181-f695-41d3-a39f-cd8d6c7cfe32",
     "showTitle": false,
     "title": ""
    }
   },
   "outputs": [
    {
     "output_type": "stream",
     "name": "stdout",
     "output_type": "stream",
     "text": [
      "+----------+-----------+-----+--------------------+-----+--------------------+----------+----------+-----------+---------------+-----------------+---------+--------+---------+----------+----------+----------------+-----------------+------------------------+\n|ARREST_KEY|ARREST_DATE|PD_CD|             PD_DESC|KY_CD|           OFNS_DESC|  LAW_CODE|LAW_CAT_CD|ARREST_BORO|ARREST_PRECINCT|JURISDICTION_CODE|AGE_GROUP|PERP_SEX|PERP_RACE|X_COORD_CD|Y_COORD_CD|        Latitude|        Longitude|New Georeferenced Column|\n+----------+-----------+-----+--------------------+-----+--------------------+----------+----------+-----------+---------------+-----------------+---------+--------+---------+----------+----------+----------------+-----------------+------------------------+\n| 261265483| 01/03/2023|397.0|ROBBERY,OPEN AREA...|105.0|             ROBBERY|PL 1600500|         F|          B|             49|                0|    18-24|       M|    BLACK|   1027430|    251104|       40.855793|       -73.843908|    POINT (-73.843908...|\n| 261271301| 01/03/2023|105.0|   STRANGULATION 1ST|106.0|      FELONY ASSAULT|PL 1211200|         F|          S|            120|                0|    25-44|       M|    WHITE|    962808|    174275|       40.644996|       -74.077263|    POINT (-74.077263...|\n| 261336449| 01/04/2023|397.0|ROBBERY,OPEN AREA...|105.0|             ROBBERY|PL 1601001|         F|          K|             61|                0|      <18|       M|    BLACK|    995118|    155708|       40.594054|       -73.960866|    POINT (-73.960866...|\n| 261328047| 01/04/2023|105.0|   STRANGULATION 1ST|106.0|      FELONY ASSAULT|PL 1211200|         F|          Q|            114|                0|    18-24|       M|    BLACK|   1007694|    219656|       40.769552|       -73.915361|    POINT (-73.915361...|\n| 261417496| 01/05/2023|244.0|BURGLARY,UNCLASSI...|107.0|            BURGLARY|PL 1402000|         F|          B|             44|                0|    25-44|       F|    BLACK|   1007174|    239542|       40.824135|        -73.91717|    POINT (-73.91717 ...|\n| 261583093| 01/08/2023|109.0|ASSAULT 2,1,UNCLA...|106.0|      FELONY ASSAULT|PL 1200502|         F|          K|             76|                0|    25-44|       M|    BLACK|    984110|    188363|       40.683691|       -74.000504|    POINT (-74.000504...|\n| 261611504| 01/09/2023|263.0|         ARSON 2,3,4|114.0|               ARSON|PL 1501500|         F|          B|             49|               71|    25-44|       M|    WHITE|   1028555|    246897|        40.84424|       -73.839868|    POINT (-73.839868...|\n| 261892107| 01/14/2023|109.0|ASSAULT 2,1,UNCLA...|106.0|      FELONY ASSAULT|PL 1200501|         F|          K|             90|                0|    25-44|       M|    BLACK|    996541|    199439|       40.714082|       -73.955662|    POINT (-73.955662...|\n| 261926460| 01/14/2023|263.0|         ARSON 2,3,4|114.0|               ARSON|PL 1501001|         F|          K|             63|                0|    25-44|       M|    BLACK|   1000520|    168264|       40.628508|       -73.941384|    POINT (-73.941384...|\n| 262973934| 02/03/2023|105.0|   STRANGULATION 1ST|106.0|      FELONY ASSAULT|PL 1211200|         F|          M|             34|                0|    25-44|       M|    BLACK|   1003818|    253167|       40.861538|       -73.929256|    POINT (-73.929256...|\n| 263113943| 02/06/2023|109.0|ASSAULT 2,1,UNCLA...|106.0|      FELONY ASSAULT|PL 1200501|         F|          B|             44|                0|    45-64|       F|    BLACK|   1010036|    246475|       40.843155|       -73.906802|    POINT (-73.906802...|\n| 264092077| 02/23/2023|105.0|   STRANGULATION 1ST|106.0|      FELONY ASSAULT|PL 1211300|         F|          Q|            105|                0|    25-44|       F|    BLACK|   1057766|    203992|       40.726284|        -73.73476|    POINT (-73.73476 ...|\n| 261635779| 01/10/2023|105.0|   STRANGULATION 1ST|106.0|      FELONY ASSAULT|PL 1211200|         F|          Q|            101|                0|    18-24|       M|    BLACK|   1050620|    157860|       40.599718|       -73.760999|    POINT (-73.760999...|\n| 261739896| 01/11/2023|205.0|TRESPASS 2, CRIMINAL|352.0|   CRIMINAL TRESPASS|PL 1401502|         M|          K|             88|                0|    18-24|       F|    BLACK|    991150|    192509|       40.695068|       -73.975116|    POINT (-73.975116...|\n| 264206386| 02/25/2023|105.0|   STRANGULATION 1ST|106.0|      FELONY ASSAULT|PL 1211200|         F|          K|             63|                0|    45-64|       M|    BLACK|   1000520|    168264|       40.628508|       -73.941384|    POINT (-73.941384...|\n| 261361209| 01/04/2023|101.0|           ASSAULT 3|344.0|ASSAULT 3 & RELAT...|PL 1200001|         M|          B|             40|                0|    18-24|       F|    BLACK|   1007528|    234117|       40.809243|       -73.915909|    POINT (-73.915909...|\n| 264544903| 03/04/2023|105.0|   STRANGULATION 1ST|106.0|      FELONY ASSAULT|PL 1211200|         F|          Q|            114|                0|    25-44|       M|    BLACK|   1007694|    219656|       40.769552|       -73.915361|    POINT (-73.915361...|\n| 262362107| 01/23/2023|397.0|ROBBERY,OPEN AREA...|105.0|             ROBBERY|PL 1600500|         F|          B|             47|                0|    25-44|       M|    BLACK|   1026486|    262591|       40.887325|       -73.847247|    POINT (-73.847247...|\n| 262497973| 01/25/2023|153.0|              RAPE 3|104.0|                RAPE|PL 1302501|         F|          B|             52|                0|      <18|       M|    BLACK|   1017478|    256069|40.8694704770483|-73.8798608037303|    POINT (-73.879860...|\n| 262813012| 02/01/2023|729.0|FORGERY,ETC.,UNCL...|113.0|             FORGERY|PL 1701501|         F|          Q|            109|                0|    25-44|       F|    WHITE|   1037103|    209141|     40.74056238|     -73.80927199|    POINT (-73.809271...|\n+----------+-----------+-----+--------------------+-----+--------------------+----------+----------+-----------+---------------+-----------------+---------+--------+---------+----------+----------+----------------+-----------------+------------------------+\nonly showing top 20 rows\n\n"
     ]
    }
   ],
   "source": [
    "path1 = 'https://raw.githubusercontent.com/TommyDS2005/Proyecto-Procesamiento-de-Datos/main/NYPD_Arrest_Data_Part1.csv'\n",
    "path2 = 'https://raw.githubusercontent.com/TommyDS2005/Proyecto-Procesamiento-de-Datos/main/NYPD_Arrest_Data_Part2.csv'\n",
    "\n",
    "df1 = pd.read_csv(path1, sep=',')\n",
    "df2 = pd.read_csv(path2, sep=',')\n",
    "\n",
    "dfpd = pd.concat([df1,df2])\n",
    "\n",
    "df = spark.createDataFrame(dfpd)\n",
    "\n",
    "# Muestra las primeras filas del DataFrame de Spark para verificar\n",
    "df.show()"
   ]
  },
  {
   "cell_type": "code",
   "execution_count": 0,
   "metadata": {
    "application/vnd.databricks.v1+cell": {
     "cellMetadata": {
      "byteLimit": 2048000,
      "rowLimit": 10000
     },
     "inputWidgets": {},
     "nuid": "fdb1bea2-46e0-4539-aa6d-69521c66197c",
     "showTitle": false,
     "title": ""
    }
   },
   "outputs": [
    {
     "output_type": "stream",
     "name": "stdout",
     "output_type": "stream",
     "text": [
      "root\n |-- ARREST_KEY: long (nullable = true)\n |-- ARREST_DATE: string (nullable = true)\n |-- PD_CD: double (nullable = true)\n |-- PD_DESC: string (nullable = true)\n |-- KY_CD: double (nullable = true)\n |-- OFNS_DESC: string (nullable = true)\n |-- LAW_CODE: string (nullable = true)\n |-- LAW_CAT_CD: string (nullable = true)\n |-- ARREST_BORO: string (nullable = true)\n |-- ARREST_PRECINCT: long (nullable = true)\n |-- JURISDICTION_CODE: long (nullable = true)\n |-- AGE_GROUP: string (nullable = true)\n |-- PERP_SEX: string (nullable = true)\n |-- PERP_RACE: string (nullable = true)\n |-- X_COORD_CD: long (nullable = true)\n |-- Y_COORD_CD: long (nullable = true)\n |-- Latitude: double (nullable = true)\n |-- Longitude: double (nullable = true)\n |-- New Georeferenced Column: string (nullable = true)\n\n"
     ]
    }
   ],
   "source": [
    "##Tipos de datos.\n",
    "df.printSchema()"
   ]
  },
  {
   "cell_type": "markdown",
   "metadata": {
    "application/vnd.databricks.v1+cell": {
     "cellMetadata": {},
     "inputWidgets": {},
     "nuid": "3a1d7457-cab1-4a58-b060-603542f920ca",
     "showTitle": false,
     "title": ""
    }
   },
   "source": [
    "\n",
    "###Significado de cada atributo\n",
    "\n",
    "ARREST_KEY: Identificador único y persistente generado aleatoriamente para cada arresto. Tipo de dato texto plano.\n",
    "\n",
    "ARREST_DATE: Fecha exacta del arresto del evento reportado. Tipo de dato fecha y hora.\n",
    "\n",
    "PD_CD: Código de clasificación interna de tres dígitos (más detallado que el Código Clave). Tipo de dato número.\n",
    "\n",
    "PD_DESC: Descripción de la clasificación interna que corresponde con el código PD (más detallada que la Descripción de la Ofensa). Tipo de dato texto plano.\n",
    "\n",
    "KY_CD: Código de clasificación interna de tres dígitos (categoría más general que el código PD). Tipo de dato número.\n",
    "\n",
    "OFNS_DESC: Descripción de la clasificación interna que corresponde con el código KY (categoría más general que la descripción PD). Tipo de dato texto plano.\n",
    "\n",
    "LAW_CODE: Códigos de la ley correspondientes al Código Penal de Nueva York, VTL y otras leyes locales diversas. Tipo de dato texto plano.\n",
    "\n",
    "LAW_CAT_CD: Nivel del delito: delito mayor (felony), delito menor (misdemeanor), infracción (violation). Tipo de dato texto plano.\n",
    "\n",
    "ARREST_BORO: Barrio del arresto. B (Bronx), S (Staten Island), K (Brooklyn), M (Manhattan), Q (Queens). Tipo de dato texto plano.\n",
    "\n",
    "ARREST_PRECINCT: Precinto donde ocurrió el arresto. Tipo de dato número.\n",
    "\n",
    "JURISDICTION_CODE: Código de jurisdicción responsable del arresto. Los códigos de jurisdicción 0 (Patrulla), 1 (Tránsito) y 2 (Vivienda) representan al NYPD, mientras que los códigos 3 en adelante representan jurisdicciones ajenas al NYPD. Tipo de dato número.\n",
    "\n",
    "AGE_GROUP: Edad del perpetrador dentro de una categoría establecida. Tipo de dato texto plano.\n",
    "\n",
    "PERP_SEX: Descripción del sexo del perpetrador. Tipo de dato texto plano.\n",
    "\n",
    "PERP_RACE: Descripción de la raza del perpetrador. Tipo de dato texto plano.\n",
    "\n",
    "X_COORD_CD: Coordenada X del punto medio de la cuadra para el Sistema de Coordenadas Planas del Estado de Nueva York, Zona de Long Island, NAD 83, unidades en pies (FIPS 3104). Tipo de dato número.\n",
    "\n",
    "Y_COORD_CD: Coordenada Y del punto medio de la cuadra para el Sistema de Coordenadas Planas del Estado de Nueva York, Zona de Long Island, NAD 83, unidades en pies (FIPS 3104). Tipo de dato número.\n",
    "\n",
    "Latitude: Coordenada de latitud para el Sistema de Coordenadas Global, WGS 1984, grados decimales (EPSG 4326). Tipo de dato número.\n",
    "\n",
    "Longitude: Coordenada de longitud para el Sistema de Coordenadas Global, WGS 1984, grados decimales (EPSG 4326). Tipo de dato número."
   ]
  },
  {
   "cell_type": "markdown",
   "metadata": {
    "application/vnd.databricks.v1+cell": {
     "cellMetadata": {},
     "inputWidgets": {},
     "nuid": "ed7aa8a5-9629-4efe-8643-dee08a81fa41",
     "showTitle": false,
     "title": ""
    }
   },
   "source": [
    "\n",
    "###Descripcion del dataset\n",
    "\n",
    "Este conjunto de datos contiene registros detallados de arrestos efectuados por el Departamento de Policía de Nueva York (NYPD) durante el año en curso, incluyendo información demográfica del detenido, el tipo de delito, la ubicación exacta y la fecha del arresto, así como el código y descripción de la ley asociada con el arresto.\n"
   ]
  },
  {
   "cell_type": "code",
   "execution_count": 0,
   "metadata": {
    "application/vnd.databricks.v1+cell": {
     "cellMetadata": {
      "byteLimit": 2048000,
      "rowLimit": 10000
     },
     "inputWidgets": {},
     "nuid": "82f407f7-dd28-4cb3-a7e0-e043231297e8",
     "showTitle": false,
     "title": ""
    }
   },
   "outputs": [
    {
     "output_type": "stream",
     "name": "stdout",
     "output_type": "stream",
     "text": [
      "El conjunto de datos cuenta con 226872 filas y 19 columnas\n"
     ]
    }
   ],
   "source": [
    "####Exploracionde datos\n",
    "\n",
    "##Identificar a forma del dataset\n",
    "print(\"El conjunto de datos cuenta con \" + str(df.count()) + \" filas y \" + str(len(df.columns)) + \" columnas\")"
   ]
  },
  {
   "cell_type": "code",
   "execution_count": 0,
   "metadata": {
    "application/vnd.databricks.v1+cell": {
     "cellMetadata": {
      "byteLimit": 2048000,
      "rowLimit": 10000
     },
     "inputWidgets": {},
     "nuid": "555ced31-b5f4-4dc9-a7f6-02d547b07462",
     "showTitle": false,
     "title": ""
    }
   },
   "outputs": [
    {
     "output_type": "stream",
     "name": "stdout",
     "output_type": "stream",
     "text": [
      "+----------+-----------+-----+-------+-----+---------+--------+----------+-----------+---------------+-----------------+---------+--------+---------+----------+----------+--------+---------+------------------------+\n|ARREST_KEY|ARREST_DATE|PD_CD|PD_DESC|KY_CD|OFNS_DESC|LAW_CODE|LAW_CAT_CD|ARREST_BORO|ARREST_PRECINCT|JURISDICTION_CODE|AGE_GROUP|PERP_SEX|PERP_RACE|X_COORD_CD|Y_COORD_CD|Latitude|Longitude|New Georeferenced Column|\n+----------+-----------+-----+-------+-----+---------+--------+----------+-----------+---------------+-----------------+---------+--------+---------+----------+----------+--------+---------+------------------------+\n|         0|          0|    2|      0|   17|        0|       0|      1599|          0|              0|                0|        0|       0|        0|         0|         0|       0|        0|                       0|\n+----------+-----------+-----+-------+-----+---------+--------+----------+-----------+---------------+-----------------+---------+--------+---------+----------+----------+--------+---------+------------------------+\n\n"
     ]
    }
   ],
   "source": [
    "###Verificar si existen valores nulos en el dataset\n",
    "df.select([count(when(isnan(c) | col(c).isNull() , c)).alias(c) for c in df.columns]).show()"
   ]
  },
  {
   "cell_type": "code",
   "execution_count": 0,
   "metadata": {
    "application/vnd.databricks.v1+cell": {
     "cellMetadata": {
      "byteLimit": 2048000,
      "rowLimit": 10000
     },
     "inputWidgets": {},
     "nuid": "fad05647-4750-4b41-8740-6efc1ff2a924",
     "showTitle": false,
     "title": ""
    }
   },
   "outputs": [
    {
     "output_type": "stream",
     "name": "stdout",
     "output_type": "stream",
     "text": [
      "+-----+--------------------+----------+----------+\n|PD_CD|             PD_DESC|  LAW_CODE|LAW_CAT_CD|\n+-----+--------------------+----------+----------+\n| 49.0|U.S. CODE UNCLASS...|FOA9000049|      NULL|\n| 49.0|U.S. CODE UNCLASS...|FOA9000049|      NULL|\n| 49.0|U.S. CODE UNCLASS...|FOA9000049|      NULL|\n| 49.0|U.S. CODE UNCLASS...|FOA9000049|      NULL|\n| 15.0|FUGITIVE/OTHER JU...|FOA9000015|      NULL|\n| 49.0|U.S. CODE UNCLASS...|FOA9000049|      NULL|\n| 29.0|NYS PAROLE VIOLATION|FOA9000029|      NULL|\n| 49.0|U.S. CODE UNCLASS...|FOA9000049|      NULL|\n| 49.0|U.S. CODE UNCLASS...|FOA9000049|      NULL|\n| 49.0|U.S. CODE UNCLASS...|FOA9000049|      NULL|\n| 49.0|U.S. CODE UNCLASS...|FOA9000049|      NULL|\n| 49.0|U.S. CODE UNCLASS...|FOA9000049|      NULL|\n| 49.0|U.S. CODE UNCLASS...|FOA9000049|      NULL|\n| 49.0|U.S. CODE UNCLASS...|FOA9000049|      NULL|\n| 16.0|FUGITIVE/OTHER ST...|FOA9000016|      NULL|\n| 49.0|U.S. CODE UNCLASS...|FOA9000049|      NULL|\n| 49.0|U.S. CODE UNCLASS...|FOA9000049|      NULL|\n| 49.0|U.S. CODE UNCLASS...|FOA9000049|      NULL|\n| 49.0|U.S. CODE UNCLASS...|FOA9000049|      NULL|\n| 49.0|U.S. CODE UNCLASS...|FOA9000049|      NULL|\n+-----+--------------------+----------+----------+\nonly showing top 20 rows\n\n"
     ]
    }
   ],
   "source": [
    "#Se busca un patron dentro de las variables directamente relacionadas en el dataset para rellenar valores nulos de la variable \"LAW_CAT_CD\"\n",
    "\n",
    "df.filter(isnan(\"LAW_CAT_CD\") | col(\"LAW_CAT_CD\").isNull()).select(\"PD_CD\",\"PD_DESC\",\"LAW_CODE\",\"LAW_CAT_CD\").show()\n"
   ]
  },
  {
   "cell_type": "code",
   "execution_count": 0,
   "metadata": {
    "application/vnd.databricks.v1+cell": {
     "cellMetadata": {
      "byteLimit": 2048000,
      "rowLimit": 10000
     },
     "inputWidgets": {},
     "nuid": "07d54228-f1da-4e7f-a4f2-69d1669cda3a",
     "showTitle": false,
     "title": ""
    }
   },
   "outputs": [],
   "source": [
    "#Nos remitimos a la dcoumentacion y observamos que para este tipo de ley, son leyes para autoridades fuera de la policia de nueva york, por lo tanto se le asignara un valor (NC: not classified) consiguiente,ya que no se conoce con certeza el nivel de gravedad del delito\n",
    "\n",
    "df = df.withColumn(\"LAW_CAT_CD\", when((isnan(\"LAW_CAT_CD\") | col(\"LAW_CAT_CD\").isNull()),\"NC\").otherwise(df[\"LAW_CAT_CD\"]))\n"
   ]
  },
  {
   "cell_type": "code",
   "execution_count": 0,
   "metadata": {
    "application/vnd.databricks.v1+cell": {
     "cellMetadata": {
      "byteLimit": 2048000,
      "rowLimit": 10000
     },
     "inputWidgets": {},
     "nuid": "10de51af-9a62-48c6-a51e-4e8e76901d29",
     "showTitle": false,
     "title": ""
    }
   },
   "outputs": [
    {
     "output_type": "stream",
     "name": "stdout",
     "output_type": "stream",
     "text": [
      "+----------+-----------+-----+-------+-----+---------+--------+----------+-----------+---------------+-----------------+---------+--------+---------+----------+----------+--------+---------+------------------------+\n|ARREST_KEY|ARREST_DATE|PD_CD|PD_DESC|KY_CD|OFNS_DESC|LAW_CODE|LAW_CAT_CD|ARREST_BORO|ARREST_PRECINCT|JURISDICTION_CODE|AGE_GROUP|PERP_SEX|PERP_RACE|X_COORD_CD|Y_COORD_CD|Latitude|Longitude|New Georeferenced Column|\n+----------+-----------+-----+-------+-----+---------+--------+----------+-----------+---------------+-----------------+---------+--------+---------+----------+----------+--------+---------+------------------------+\n|         0|          0|    0|      0|    0|        0|       0|         0|          0|              0|                0|        0|       0|        0|         0|         0|       0|        0|                       0|\n+----------+-----------+-----+-------+-----+---------+--------+----------+-----------+---------------+-----------------+---------+--------+---------+----------+----------+--------+---------+------------------------+\n\n"
     ]
    }
   ],
   "source": [
    "##Eliminamos valores faltantes nulos irrelevantes\n",
    "df = df.na.drop(subset = [\"PD_CD\" , \"KY_CD\"])\n",
    "\n",
    "\n",
    "###Verificar si existen valores nulos en el dataset\n",
    "df.select([count(when(isnan(c) | col(c).isNull() , c)).alias(c) for c in df.columns]).show()\n"
   ]
  },
  {
   "cell_type": "code",
   "execution_count": 0,
   "metadata": {
    "application/vnd.databricks.v1+cell": {
     "cellMetadata": {
      "byteLimit": 2048000,
      "rowLimit": 10000
     },
     "inputWidgets": {},
     "nuid": "e31e9467-016c-4a82-b93e-1e8a6e6bad30",
     "showTitle": false,
     "title": ""
    }
   },
   "outputs": [
    {
     "output_type": "display_data",
     "data": {
      "text/html": [
       "<style scoped>\n",
       "  .table-result-container {\n",
       "    max-height: 300px;\n",
       "    overflow: auto;\n",
       "  }\n",
       "  table, th, td {\n",
       "    border: 1px solid black;\n",
       "    border-collapse: collapse;\n",
       "  }\n",
       "  th, td {\n",
       "    padding: 5px;\n",
       "  }\n",
       "  th {\n",
       "    text-align: left;\n",
       "  }\n",
       "</style><div class='table-result-container'><table class='table-result'><thead style='background-color: white'><tr><th>summary</th><th>ARREST_KEY</th><th>ARREST_DATE</th><th>PD_CD</th><th>PD_DESC</th><th>KY_CD</th><th>OFNS_DESC</th><th>LAW_CODE</th><th>LAW_CAT_CD</th><th>ARREST_BORO</th><th>ARREST_PRECINCT</th><th>JURISDICTION_CODE</th><th>AGE_GROUP</th><th>PERP_SEX</th><th>PERP_RACE</th><th>X_COORD_CD</th><th>Y_COORD_CD</th><th>Latitude</th><th>Longitude</th><th>New Georeferenced Column</th></tr></thead><tbody><tr><td>count</td><td>226855</td><td>226855</td><td>226855</td><td>226855</td><td>226855</td><td>226855</td><td>226855</td><td>226855</td><td>226855</td><td>226855</td><td>226855</td><td>226855</td><td>226855</td><td>226855</td><td>226855</td><td>226855</td><td>226855</td><td>226855</td><td>226855</td></tr><tr><td>mean</td><td>2.706477942499129E8</td><td>null</td><td>424.7379691873664</td><td>null</td><td>249.3451323532653</td><td>null</td><td>null</td><td>9.0</td><td>null</td><td>63.43004562385665</td><td>0.928601970421635</td><td>null</td><td>null</td><td>null</td><td>1005785.7063630953</td><td>208288.62870115272</td><td>40.73815239689834</td><td>-73.92191851341298</td><td>null</td></tr><tr><td>stddev</td><td>5304085.08862895</td><td>null</td><td>274.47121833621935</td><td>null</td><td>147.68673264760517</td><td>null</td><td>null</td><td>0.0</td><td>null</td><td>34.6355597884016</td><td>7.538846930732832</td><td>null</td><td>null</td><td>null</td><td>21509.135289932983</td><td>29744.392827654214</td><td>0.1182382531886722</td><td>0.17334251205567885</td><td>null</td></tr><tr><td>min</td><td>261180920</td><td>01/01/2023</td><td>1.0</td><td>A.B.C.,FALSE PROOF OF AGE</td><td>101.0</td><td>ADMINISTRATIVE CODE</td><td>ABC00000MA</td><td>9</td><td>B</td><td>1</td><td>0</td><td>18-24</td><td>F</td><td>AMERICAN INDIAN/ALASKAN NATIVE</td><td>0</td><td>0</td><td>0.0</td><td>-74.253256</td><td>POINT (-73.70059684703173 40.7390218775969)</td></tr><tr><td>max</td><td>279779734</td><td>12/31/2023</td><td>997.0</td><td>WEAPONS,MFR,TRANSPORT,ETC.</td><td>995.0</td><td>VEHICLE AND TRAFFIC LAWS</td><td>VTL21300A5</td><td>V</td><td>S</td><td>123</td><td>97</td><td><18</td><td>U</td><td>WHITE HISPANIC</td><td>1067220</td><td>271819</td><td>40.912714</td><td>0.0</td><td>POINT (0 0)</td></tr></tbody></table></div>"
      ]
     },
     "metadata": {
      "application/vnd.databricks.v1+output": {
       "addedWidgets": {},
       "aggData": [],
       "aggError": "",
       "aggOverflow": false,
       "aggSchema": [],
       "aggSeriesLimitReached": false,
       "aggType": "",
       "arguments": {},
       "columnCustomDisplayInfos": {},
       "data": [
        [
         "count",
         "226855",
         "226855",
         "226855",
         "226855",
         "226855",
         "226855",
         "226855",
         "226855",
         "226855",
         "226855",
         "226855",
         "226855",
         "226855",
         "226855",
         "226855",
         "226855",
         "226855",
         "226855",
         "226855"
        ],
        [
         "mean",
         "2.706477942499129E8",
         null,
         "424.7379691873664",
         null,
         "249.3451323532653",
         null,
         null,
         "9.0",
         null,
         "63.43004562385665",
         "0.928601970421635",
         null,
         null,
         null,
         "1005785.7063630953",
         "208288.62870115272",
         "40.73815239689834",
         "-73.92191851341298",
         null
        ],
        [
         "stddev",
         "5304085.08862895",
         null,
         "274.47121833621935",
         null,
         "147.68673264760517",
         null,
         null,
         "0.0",
         null,
         "34.6355597884016",
         "7.538846930732832",
         null,
         null,
         null,
         "21509.135289932983",
         "29744.392827654214",
         "0.1182382531886722",
         "0.17334251205567885",
         null
        ],
        [
         "min",
         "261180920",
         "01/01/2023",
         "1.0",
         "A.B.C.,FALSE PROOF OF AGE",
         "101.0",
         "ADMINISTRATIVE CODE",
         "ABC00000MA",
         "9",
         "B",
         "1",
         "0",
         "18-24",
         "F",
         "AMERICAN INDIAN/ALASKAN NATIVE",
         "0",
         "0",
         "0.0",
         "-74.253256",
         "POINT (-73.70059684703173 40.7390218775969)"
        ],
        [
         "max",
         "279779734",
         "12/31/2023",
         "997.0",
         "WEAPONS,MFR,TRANSPORT,ETC.",
         "995.0",
         "VEHICLE AND TRAFFIC LAWS",
         "VTL21300A5",
         "V",
         "S",
         "123",
         "97",
         "<18",
         "U",
         "WHITE HISPANIC",
         "1067220",
         "271819",
         "40.912714",
         "0.0",
         "POINT (0 0)"
        ]
       ],
       "datasetInfos": [],
       "dbfsResultPath": null,
       "isJsonSchema": true,
       "metadata": {},
       "overflow": false,
       "plotOptions": {
        "customPlotOptions": {},
        "displayType": "table",
        "pivotAggregation": null,
        "pivotColumns": null,
        "xColumns": null,
        "yColumns": null
       },
       "removedWidgets": [],
       "schema": [
        {
         "metadata": "{}",
         "name": "summary",
         "type": "\"string\""
        },
        {
         "metadata": "{}",
         "name": "ARREST_KEY",
         "type": "\"string\""
        },
        {
         "metadata": "{}",
         "name": "ARREST_DATE",
         "type": "\"string\""
        },
        {
         "metadata": "{}",
         "name": "PD_CD",
         "type": "\"string\""
        },
        {
         "metadata": "{}",
         "name": "PD_DESC",
         "type": "\"string\""
        },
        {
         "metadata": "{}",
         "name": "KY_CD",
         "type": "\"string\""
        },
        {
         "metadata": "{}",
         "name": "OFNS_DESC",
         "type": "\"string\""
        },
        {
         "metadata": "{}",
         "name": "LAW_CODE",
         "type": "\"string\""
        },
        {
         "metadata": "{}",
         "name": "LAW_CAT_CD",
         "type": "\"string\""
        },
        {
         "metadata": "{}",
         "name": "ARREST_BORO",
         "type": "\"string\""
        },
        {
         "metadata": "{}",
         "name": "ARREST_PRECINCT",
         "type": "\"string\""
        },
        {
         "metadata": "{}",
         "name": "JURISDICTION_CODE",
         "type": "\"string\""
        },
        {
         "metadata": "{}",
         "name": "AGE_GROUP",
         "type": "\"string\""
        },
        {
         "metadata": "{}",
         "name": "PERP_SEX",
         "type": "\"string\""
        },
        {
         "metadata": "{}",
         "name": "PERP_RACE",
         "type": "\"string\""
        },
        {
         "metadata": "{}",
         "name": "X_COORD_CD",
         "type": "\"string\""
        },
        {
         "metadata": "{}",
         "name": "Y_COORD_CD",
         "type": "\"string\""
        },
        {
         "metadata": "{}",
         "name": "Latitude",
         "type": "\"string\""
        },
        {
         "metadata": "{}",
         "name": "Longitude",
         "type": "\"string\""
        },
        {
         "metadata": "{}",
         "name": "New Georeferenced Column",
         "type": "\"string\""
        }
       ],
       "type": "table"
      }
     },
     "output_type": "display_data"
    }
   ],
   "source": [
    "#Se hace un resumen estadisticos de la informacion\n",
    "display(df.describe())"
   ]
  },
  {
   "cell_type": "code",
   "execution_count": 0,
   "metadata": {
    "application/vnd.databricks.v1+cell": {
     "cellMetadata": {
      "byteLimit": 2048000,
      "rowLimit": 10000
     },
     "inputWidgets": {},
     "nuid": "bcc528d8-14fb-4ff9-9767-a696c1548f23",
     "showTitle": false,
     "title": ""
    }
   },
   "outputs": [
    {
     "output_type": "stream",
     "name": "stdout",
     "output_type": "stream",
     "text": [
      "+-----+--------------------+----------+----------+\n|PD_CD|             PD_DESC|  LAW_CODE|LAW_CAT_CD|\n+-----+--------------------+----------+----------+\n|849.0|NY STATE LAWS,UNC...|CPL5700600|         9|\n|849.0|NY STATE LAWS,UNC...|CPL5700600|         9|\n|849.0|NY STATE LAWS,UNC...|CPL5700600|         9|\n|849.0|NY STATE LAWS,UNC...|CPL5700600|         9|\n|849.0|NY STATE LAWS,UNC...|CPL5700600|         9|\n|849.0|NY STATE LAWS,UNC...|CPL5700600|         9|\n|849.0|NY STATE LAWS,UNC...|CPL5700600|         9|\n|849.0|NY STATE LAWS,UNC...|CPL5700600|         9|\n|849.0|NY STATE LAWS,UNC...|CPL5700600|         9|\n|849.0|NY STATE LAWS,UNC...|CPL5700600|         9|\n|849.0|NY STATE LAWS,UNC...|CPL5700600|         9|\n|849.0|NY STATE LAWS,UNC...|CPL5700600|         9|\n|849.0|NY STATE LAWS,UNC...|CPL5700600|         9|\n|849.0|NY STATE LAWS,UNC...|CPL5700600|         9|\n|849.0|NY STATE LAWS,UNC...|CPL5700600|         9|\n|849.0|NY STATE LAWS,UNC...|CPL5700600|         9|\n|849.0|NY STATE LAWS,UNC...|CPL5700600|         9|\n|849.0|NY STATE LAWS,UNC...|CPL5700600|         9|\n|849.0|NY STATE LAWS,UNC...|CPL5700600|         9|\n|849.0|NY STATE LAWS,UNC...|CPL5700600|         9|\n+-----+--------------------+----------+----------+\nonly showing top 20 rows\n\n"
     ]
    }
   ],
   "source": [
    "#Parece exisitir un error de digitacion en la variable \"LAW_CAT_CD\" se debe buscar\n",
    "filtered_df = df.filter(df[\"LAW_CAT_CD\"]==\"9\").select(\"PD_CD\",\"PD_DESC\",\"LAW_CODE\",\"LAW_CAT_CD\")\n",
    "filtered_df.show()"
   ]
  },
  {
   "cell_type": "code",
   "execution_count": 0,
   "metadata": {
    "application/vnd.databricks.v1+cell": {
     "cellMetadata": {
      "byteLimit": 2048000,
      "rowLimit": 10000
     },
     "inputWidgets": {},
     "nuid": "41ef3cac-6959-433b-a515-96b802931c89",
     "showTitle": false,
     "title": ""
    }
   },
   "outputs": [
    {
     "output_type": "execute_result",
     "data": {
      "text/plain": [
       "611"
      ]
     },
     "execution_count": 56,
     "metadata": {},
     "output_type": "execute_result"
    }
   ],
   "source": [
    "#Se mira la cantidad de registros con el error\n",
    "\n",
    "filtered_df.count()"
   ]
  },
  {
   "cell_type": "code",
   "execution_count": 0,
   "metadata": {
    "application/vnd.databricks.v1+cell": {
     "cellMetadata": {
      "byteLimit": 2048000,
      "rowLimit": 10000
     },
     "inputWidgets": {},
     "nuid": "a61b0573-fa7f-4fde-b08d-a7d490b81b6c",
     "showTitle": false,
     "title": ""
    }
   },
   "outputs": [],
   "source": [
    "#Se decide asignar el valor asociado a la descripcion \"UV:uncalssified violnece\" Ya que no esta dentro de la misma serie de leyes que NC: not classified, y no se puede realizar una asociacion directa de una con otra \n",
    "\n",
    "df = df.withColumn(\"LAW_CAT_CD\", when(df[\"LAW_CAT_CD\"] == \"9\", \"UV\").otherwise(df[\"LAW_CAT_CD\"]))"
   ]
  },
  {
   "cell_type": "code",
   "execution_count": 0,
   "metadata": {
    "application/vnd.databricks.v1+cell": {
     "cellMetadata": {
      "byteLimit": 2048000,
      "rowLimit": 10000
     },
     "inputWidgets": {},
     "nuid": "104cda5d-a637-4c96-bcd1-0a1095c8c192",
     "showTitle": false,
     "title": ""
    }
   },
   "outputs": [
    {
     "output_type": "stream",
     "name": "stdout",
     "output_type": "stream",
     "text": [
      "+---+\n|Mes|\n+---+\n| 07|\n| 11|\n| 01|\n| 09|\n| 05|\n| 08|\n| 03|\n| 02|\n| 06|\n| 10|\n| 12|\n| 04|\n+---+\n\n"
     ]
    }
   ],
   "source": [
    "#Ya que los datos son del año 2023 se extraera el mes para manejar los arrestos en diferentes periodos del año\n",
    "\n",
    "df = df.withColumn(\"Mes\", regexp_extract(col('ARREST_DATE'), \"^(0[1-9]|1[0-2])\\/\", 1))\n",
    "\n",
    "df.select(\"Mes\").distinct().show()"
   ]
  },
  {
   "cell_type": "code",
   "execution_count": 0,
   "metadata": {
    "application/vnd.databricks.v1+cell": {
     "cellMetadata": {
      "byteLimit": 2048000,
      "rowLimit": 10000
     },
     "inputWidgets": {},
     "nuid": "3caee03d-d10b-42de-ad16-91ac432cf125",
     "showTitle": false,
     "title": ""
    }
   },
   "outputs": [
    {
     "output_type": "stream",
     "name": "stdout",
     "output_type": "stream",
     "text": [
      "Mapping de LAW_CAT_CD a índices: ['M', 'F', 'NC', 'V', 'UV', 'I']\nMapping de ARREST_BORO a índices: ['K', 'B', 'M', 'Q', 'S']\nMapping de ARREST_PRECINCT a índices: ['14', '75', '44', '40', '103', '46', '52', '43', '73', '120', '113', '110', '47', '25', '109', '42', '48', '105', '67', '18', '114', '115', '41', '60', '79', '84', '102', '70', '5', '72', '45', '77', '106', '13', '34', '83', '49', '121', '90', '71', '32', '23', '1', '63', '107', '28', '62', '6', '68', '108', '33', '7', '9', '104', '61', '81', '19', '10', '24', '69', '101', '78', '30', '122', '112', '50', '88', '66', '26', '94', '76', '20', '100', '123', '17', '111', '22']\nMapping de AGE_GROUP a índices: ['25-44', '45-64', '18-24', '<18', '65+']\nMapping de PERP_SEX a índices: ['M', 'F', 'U']\nMapping de PERP_RACE a índices: ['BLACK', 'WHITE HISPANIC', 'BLACK HISPANIC', 'WHITE', 'ASIAN / PACIFIC ISLANDER', 'UNKNOWN', 'AMERICAN INDIAN/ALASKAN NATIVE']\n"
     ]
    }
   ],
   "source": [
    "##Se evidencian la necesidad de realizar imputacion a variables categoricas tales como: \"LAW_CAT_CD, ARREST_BORO, ARREST_PRECINT, AGE_GRUOP, PERP_SEX y PERP_RACE\"\n",
    "#Tambien paran simplicidad se separara la fecha para tomr solo el mes en una nueva variable llamda \"MONTH\"\n",
    "\n",
    "from pyspark.ml.feature import StringIndexer\n",
    "from pyspark.ml import Pipeline\n",
    "\n",
    "\n",
    "columnas = [\"LAW_CAT_CD\", \"ARREST_BORO\", \"ARREST_PRECINCT\", \"AGE_GROUP\", \"PERP_SEX\", \"PERP_RACE\"]\n",
    "for columna in columnas:\n",
    "    indexer = StringIndexer(inputCol=columna, outputCol=columna + \"Ind\")\n",
    "    model = indexer.fit(df)\n",
    "    df = model.transform(df)\n",
    "    print(f\"Mapping de {columna} a índices: {model.labels}\")\n"
   ]
  },
  {
   "cell_type": "markdown",
   "metadata": {
    "application/vnd.databricks.v1+cell": {
     "cellMetadata": {},
     "inputWidgets": {},
     "nuid": "e750b4d3-9393-4a52-a582-82542722b12e",
     "showTitle": false,
     "title": ""
    }
   },
   "source": [
    "<h1>Bono Parte 1</h1>"
   ]
  },
  {
   "cell_type": "code",
   "execution_count": 0,
   "metadata": {
    "application/vnd.databricks.v1+cell": {
     "cellMetadata": {
      "byteLimit": 2048000,
      "rowLimit": 10000
     },
     "inputWidgets": {},
     "nuid": "ab66c9f8-66a2-4bed-afa2-6f2239d79416",
     "showTitle": false,
     "title": ""
    }
   },
   "outputs": [
    {
     "output_type": "stream",
     "name": "stdout",
     "output_type": "stream",
     "text": [
      "\u001B[43mNote: you may need to restart the kernel using dbutils.library.restartPython() to use updated packages.\u001B[0m\nRequirement already satisfied: Selenium in /local_disk0/.ephemeral_nfs/envs/pythonEnv-31de2ece-121d-4be7-9907-c5648bcd40da/lib/python3.11/site-packages (4.19.0)\nRequirement already satisfied: urllib3[socks]<3,>=1.26 in /databricks/python3/lib/python3.11/site-packages (from Selenium) (1.26.16)\nRequirement already satisfied: trio~=0.17 in /local_disk0/.ephemeral_nfs/envs/pythonEnv-31de2ece-121d-4be7-9907-c5648bcd40da/lib/python3.11/site-packages (from Selenium) (0.25.0)\nRequirement already satisfied: trio-websocket~=0.9 in /local_disk0/.ephemeral_nfs/envs/pythonEnv-31de2ece-121d-4be7-9907-c5648bcd40da/lib/python3.11/site-packages (from Selenium) (0.11.1)\nRequirement already satisfied: certifi>=2021.10.8 in /databricks/python3/lib/python3.11/site-packages (from Selenium) (2023.7.22)\nRequirement already satisfied: typing_extensions>=4.9.0 in /local_disk0/.ephemeral_nfs/envs/pythonEnv-31de2ece-121d-4be7-9907-c5648bcd40da/lib/python3.11/site-packages (from Selenium) (4.10.0)\nRequirement already satisfied: attrs>=23.2.0 in /local_disk0/.ephemeral_nfs/envs/pythonEnv-31de2ece-121d-4be7-9907-c5648bcd40da/lib/python3.11/site-packages (from trio~=0.17->Selenium) (23.2.0)\nRequirement already satisfied: sortedcontainers in /local_disk0/.ephemeral_nfs/envs/pythonEnv-31de2ece-121d-4be7-9907-c5648bcd40da/lib/python3.11/site-packages (from trio~=0.17->Selenium) (2.4.0)\nRequirement already satisfied: idna in /databricks/python3/lib/python3.11/site-packages (from trio~=0.17->Selenium) (3.4)\nRequirement already satisfied: outcome in /local_disk0/.ephemeral_nfs/envs/pythonEnv-31de2ece-121d-4be7-9907-c5648bcd40da/lib/python3.11/site-packages (from trio~=0.17->Selenium) (1.3.0.post0)\nRequirement already satisfied: sniffio>=1.3.0 in /local_disk0/.ephemeral_nfs/envs/pythonEnv-31de2ece-121d-4be7-9907-c5648bcd40da/lib/python3.11/site-packages (from trio~=0.17->Selenium) (1.3.1)\nRequirement already satisfied: wsproto>=0.14 in /local_disk0/.ephemeral_nfs/envs/pythonEnv-31de2ece-121d-4be7-9907-c5648bcd40da/lib/python3.11/site-packages (from trio-websocket~=0.9->Selenium) (1.2.0)\nRequirement already satisfied: PySocks!=1.5.7,<2.0,>=1.5.6 in /local_disk0/.ephemeral_nfs/envs/pythonEnv-31de2ece-121d-4be7-9907-c5648bcd40da/lib/python3.11/site-packages (from urllib3[socks]<3,>=1.26->Selenium) (1.7.1)\nRequirement already satisfied: h11<1,>=0.9.0 in /local_disk0/.ephemeral_nfs/envs/pythonEnv-31de2ece-121d-4be7-9907-c5648bcd40da/lib/python3.11/site-packages (from wsproto>=0.14->trio-websocket~=0.9->Selenium) (0.14.0)\n\u001B[43mNote: you may need to restart the kernel using dbutils.library.restartPython() to use updated packages.\u001B[0m\n\u001B[43mNote: you may need to restart the kernel using dbutils.library.restartPython() to use updated packages.\u001B[0m\nRequirement already satisfied: geopandas in /local_disk0/.ephemeral_nfs/envs/pythonEnv-31de2ece-121d-4be7-9907-c5648bcd40da/lib/python3.11/site-packages (0.14.3)\nRequirement already satisfied: matplotlib in /databricks/python3/lib/python3.11/site-packages (3.7.2)\nRequirement already satisfied: mapclassify in /local_disk0/.ephemeral_nfs/envs/pythonEnv-31de2ece-121d-4be7-9907-c5648bcd40da/lib/python3.11/site-packages (2.6.1)\nRequirement already satisfied: fiona>=1.8.21 in /local_disk0/.ephemeral_nfs/envs/pythonEnv-31de2ece-121d-4be7-9907-c5648bcd40da/lib/python3.11/site-packages (from geopandas) (1.9.6)\nRequirement already satisfied: packaging in /databricks/python3/lib/python3.11/site-packages (from geopandas) (23.2)\nRequirement already satisfied: pandas>=1.4.0 in /databricks/python3/lib/python3.11/site-packages (from geopandas) (2.0.3)\nRequirement already satisfied: pyproj>=3.3.0 in /local_disk0/.ephemeral_nfs/envs/pythonEnv-31de2ece-121d-4be7-9907-c5648bcd40da/lib/python3.11/site-packages (from geopandas) (3.6.1)\nRequirement already satisfied: shapely>=1.8.0 in /local_disk0/.ephemeral_nfs/envs/pythonEnv-31de2ece-121d-4be7-9907-c5648bcd40da/lib/python3.11/site-packages (from geopandas) (2.0.3)\nRequirement already satisfied: contourpy>=1.0.1 in /databricks/python3/lib/python3.11/site-packages (from matplotlib) (1.0.5)\nRequirement already satisfied: cycler>=0.10 in /databricks/python3/lib/python3.11/site-packages (from matplotlib) (0.11.0)\nRequirement already satisfied: fonttools>=4.22.0 in /databricks/python3/lib/python3.11/site-packages (from matplotlib) (4.25.0)\nRequirement already satisfied: kiwisolver>=1.0.1 in /databricks/python3/lib/python3.11/site-packages (from matplotlib) (1.4.4)\nRequirement already satisfied: numpy>=1.20 in /databricks/python3/lib/python3.11/site-packages (from matplotlib) (1.23.5)\nRequirement already satisfied: pillow>=6.2.0 in /databricks/python3/lib/python3.11/site-packages (from matplotlib) (9.4.0)\nRequirement already satisfied: pyparsing<3.1,>=2.3.1 in /databricks/python3/lib/python3.11/site-packages (from matplotlib) (3.0.9)\nRequirement already satisfied: python-dateutil>=2.7 in /databricks/python3/lib/python3.11/site-packages (from matplotlib) (2.8.2)\nRequirement already satisfied: networkx>=2.7 in /local_disk0/.ephemeral_nfs/envs/pythonEnv-31de2ece-121d-4be7-9907-c5648bcd40da/lib/python3.11/site-packages (from mapclassify) (3.2.1)\nRequirement already satisfied: scikit-learn>=1.0 in /databricks/python3/lib/python3.11/site-packages (from mapclassify) (1.3.0)\nRequirement already satisfied: scipy>=1.8 in /databricks/python3/lib/python3.11/site-packages (from mapclassify) (1.11.1)\nRequirement already satisfied: attrs>=19.2.0 in /local_disk0/.ephemeral_nfs/envs/pythonEnv-31de2ece-121d-4be7-9907-c5648bcd40da/lib/python3.11/site-packages (from fiona>=1.8.21->geopandas) (23.2.0)\nRequirement already satisfied: certifi in /databricks/python3/lib/python3.11/site-packages (from fiona>=1.8.21->geopandas) (2023.7.22)\nRequirement already satisfied: click~=8.0 in /databricks/python3/lib/python3.11/site-packages (from fiona>=1.8.21->geopandas) (8.0.4)\nRequirement already satisfied: click-plugins>=1.0 in /local_disk0/.ephemeral_nfs/envs/pythonEnv-31de2ece-121d-4be7-9907-c5648bcd40da/lib/python3.11/site-packages (from fiona>=1.8.21->geopandas) (1.1.1)\nRequirement already satisfied: cligj>=0.5 in /local_disk0/.ephemeral_nfs/envs/pythonEnv-31de2ece-121d-4be7-9907-c5648bcd40da/lib/python3.11/site-packages (from fiona>=1.8.21->geopandas) (0.7.2)\nRequirement already satisfied: six in /usr/lib/python3/dist-packages (from fiona>=1.8.21->geopandas) (1.16.0)\nRequirement already satisfied: pytz>=2020.1 in /databricks/python3/lib/python3.11/site-packages (from pandas>=1.4.0->geopandas) (2022.7)\nRequirement already satisfied: tzdata>=2022.1 in /databricks/python3/lib/python3.11/site-packages (from pandas>=1.4.0->geopandas) (2022.1)\nRequirement already satisfied: joblib>=1.1.1 in /databricks/python3/lib/python3.11/site-packages (from scikit-learn>=1.0->mapclassify) (1.2.0)\nRequirement already satisfied: threadpoolctl>=2.0.0 in /databricks/python3/lib/python3.11/site-packages (from scikit-learn>=1.0->mapclassify) (2.2.0)\n\u001B[43mNote: you may need to restart the kernel using dbutils.library.restartPython() to use updated packages.\u001B[0m\n"
     ]
    }
   ],
   "source": [
    "###Librería para Web Scrapping\n",
    "%pip install Selenium\n",
    "###Librería para graficar\n",
    "%pip install geopandas matplotlib mapclassify"
   ]
  },
  {
   "cell_type": "code",
   "execution_count": 0,
   "metadata": {
    "application/vnd.databricks.v1+cell": {
     "cellMetadata": {
      "byteLimit": 2048000,
      "rowLimit": 10000
     },
     "inputWidgets": {},
     "nuid": "be49a977-775b-4bd3-8b89-8082543a706a",
     "showTitle": false,
     "title": ""
    }
   },
   "outputs": [],
   "source": [
    "from selenium import webdriver\n",
    "from selenium.webdriver.common.by import By\n",
    "import pandas as pd"
   ]
  },
  {
   "cell_type": "code",
   "execution_count": 0,
   "metadata": {
    "application/vnd.databricks.v1+cell": {
     "cellMetadata": {
      "byteLimit": 2048000,
      "rowLimit": 10000
     },
     "inputWidgets": {},
     "nuid": "ce8fb7f9-126f-406b-9c2d-cb7e14d87e96",
     "showTitle": false,
     "title": ""
    }
   },
   "outputs": [
    {
     "output_type": "display_data",
     "data": {
      "text/plain": [
       "\u001B[0;31m---------------------------------------------------------------------------\u001B[0m\n",
       "\u001B[0;31mSessionNotCreatedException\u001B[0m                Traceback (most recent call last)\n",
       "File \u001B[0;32m<command-1589088060930851>, line 14\u001B[0m\n",
       "\u001B[1;32m     11\u001B[0m chrome_options\u001B[38;5;241m.\u001B[39madd_argument(\u001B[38;5;124m\"\u001B[39m\u001B[38;5;124m--v=1\u001B[39m\u001B[38;5;124m\"\u001B[39m)\n",
       "\u001B[1;32m     13\u001B[0m \u001B[38;5;66;03m###Se crea el driver que navegará de forma automatizada en chrome y se accede a la página web\u001B[39;00m\n",
       "\u001B[0;32m---> 14\u001B[0m driver \u001B[38;5;241m=\u001B[39m webdriver\u001B[38;5;241m.\u001B[39mChrome(options\u001B[38;5;241m=\u001B[39mchrome_options)\n",
       "\u001B[1;32m     15\u001B[0m driver\u001B[38;5;241m.\u001B[39mget(\u001B[38;5;124m\"\u001B[39m\u001B[38;5;124mhttps://www.health.ny.gov/statistics/cancer/registry/appendix/neighborhoodpop.htm\u001B[39m\u001B[38;5;124m\"\u001B[39m)\n",
       "\n",
       "File \u001B[0;32m/local_disk0/.ephemeral_nfs/envs/pythonEnv-31de2ece-121d-4be7-9907-c5648bcd40da/lib/python3.11/site-packages/selenium/webdriver/chrome/webdriver.py:45\u001B[0m, in \u001B[0;36mWebDriver.__init__\u001B[0;34m(self, options, service, keep_alive)\u001B[0m\n",
       "\u001B[1;32m     42\u001B[0m service \u001B[38;5;241m=\u001B[39m service \u001B[38;5;28;01mif\u001B[39;00m service \u001B[38;5;28;01melse\u001B[39;00m Service()\n",
       "\u001B[1;32m     43\u001B[0m options \u001B[38;5;241m=\u001B[39m options \u001B[38;5;28;01mif\u001B[39;00m options \u001B[38;5;28;01melse\u001B[39;00m Options()\n",
       "\u001B[0;32m---> 45\u001B[0m \u001B[38;5;28msuper\u001B[39m()\u001B[38;5;241m.\u001B[39m\u001B[38;5;21m__init__\u001B[39m(\n",
       "\u001B[1;32m     46\u001B[0m     browser_name\u001B[38;5;241m=\u001B[39mDesiredCapabilities\u001B[38;5;241m.\u001B[39mCHROME[\u001B[38;5;124m\"\u001B[39m\u001B[38;5;124mbrowserName\u001B[39m\u001B[38;5;124m\"\u001B[39m],\n",
       "\u001B[1;32m     47\u001B[0m     vendor_prefix\u001B[38;5;241m=\u001B[39m\u001B[38;5;124m\"\u001B[39m\u001B[38;5;124mgoog\u001B[39m\u001B[38;5;124m\"\u001B[39m,\n",
       "\u001B[1;32m     48\u001B[0m     options\u001B[38;5;241m=\u001B[39moptions,\n",
       "\u001B[1;32m     49\u001B[0m     service\u001B[38;5;241m=\u001B[39mservice,\n",
       "\u001B[1;32m     50\u001B[0m     keep_alive\u001B[38;5;241m=\u001B[39mkeep_alive,\n",
       "\u001B[1;32m     51\u001B[0m )\n",
       "\n",
       "File \u001B[0;32m/local_disk0/.ephemeral_nfs/envs/pythonEnv-31de2ece-121d-4be7-9907-c5648bcd40da/lib/python3.11/site-packages/selenium/webdriver/chromium/webdriver.py:61\u001B[0m, in \u001B[0;36mChromiumDriver.__init__\u001B[0;34m(self, browser_name, vendor_prefix, options, service, keep_alive)\u001B[0m\n",
       "\u001B[1;32m     52\u001B[0m executor \u001B[38;5;241m=\u001B[39m ChromiumRemoteConnection(\n",
       "\u001B[1;32m     53\u001B[0m     remote_server_addr\u001B[38;5;241m=\u001B[39m\u001B[38;5;28mself\u001B[39m\u001B[38;5;241m.\u001B[39mservice\u001B[38;5;241m.\u001B[39mservice_url,\n",
       "\u001B[1;32m     54\u001B[0m     browser_name\u001B[38;5;241m=\u001B[39mbrowser_name,\n",
       "\u001B[0;32m   (...)\u001B[0m\n",
       "\u001B[1;32m     57\u001B[0m     ignore_proxy\u001B[38;5;241m=\u001B[39moptions\u001B[38;5;241m.\u001B[39m_ignore_local_proxy,\n",
       "\u001B[1;32m     58\u001B[0m )\n",
       "\u001B[1;32m     60\u001B[0m \u001B[38;5;28;01mtry\u001B[39;00m:\n",
       "\u001B[0;32m---> 61\u001B[0m     \u001B[38;5;28msuper\u001B[39m()\u001B[38;5;241m.\u001B[39m\u001B[38;5;21m__init__\u001B[39m(command_executor\u001B[38;5;241m=\u001B[39mexecutor, options\u001B[38;5;241m=\u001B[39moptions)\n",
       "\u001B[1;32m     62\u001B[0m \u001B[38;5;28;01mexcept\u001B[39;00m \u001B[38;5;167;01mException\u001B[39;00m:\n",
       "\u001B[1;32m     63\u001B[0m     \u001B[38;5;28mself\u001B[39m\u001B[38;5;241m.\u001B[39mquit()\n",
       "\n",
       "File \u001B[0;32m/local_disk0/.ephemeral_nfs/envs/pythonEnv-31de2ece-121d-4be7-9907-c5648bcd40da/lib/python3.11/site-packages/selenium/webdriver/remote/webdriver.py:208\u001B[0m, in \u001B[0;36mWebDriver.__init__\u001B[0;34m(self, command_executor, keep_alive, file_detector, options)\u001B[0m\n",
       "\u001B[1;32m    206\u001B[0m \u001B[38;5;28mself\u001B[39m\u001B[38;5;241m.\u001B[39m_authenticator_id \u001B[38;5;241m=\u001B[39m \u001B[38;5;28;01mNone\u001B[39;00m\n",
       "\u001B[1;32m    207\u001B[0m \u001B[38;5;28mself\u001B[39m\u001B[38;5;241m.\u001B[39mstart_client()\n",
       "\u001B[0;32m--> 208\u001B[0m \u001B[38;5;28mself\u001B[39m\u001B[38;5;241m.\u001B[39mstart_session(capabilities)\n",
       "\n",
       "File \u001B[0;32m/local_disk0/.ephemeral_nfs/envs/pythonEnv-31de2ece-121d-4be7-9907-c5648bcd40da/lib/python3.11/site-packages/selenium/webdriver/remote/webdriver.py:292\u001B[0m, in \u001B[0;36mWebDriver.start_session\u001B[0;34m(self, capabilities)\u001B[0m\n",
       "\u001B[1;32m    285\u001B[0m \u001B[38;5;250m\u001B[39m\u001B[38;5;124;03m\"\"\"Creates a new session with the desired capabilities.\u001B[39;00m\n",
       "\u001B[1;32m    286\u001B[0m \n",
       "\u001B[1;32m    287\u001B[0m \u001B[38;5;124;03m:Args:\u001B[39;00m\n",
       "\u001B[1;32m    288\u001B[0m \u001B[38;5;124;03m - capabilities - a capabilities dict to start the session with.\u001B[39;00m\n",
       "\u001B[1;32m    289\u001B[0m \u001B[38;5;124;03m\"\"\"\u001B[39;00m\n",
       "\u001B[1;32m    291\u001B[0m caps \u001B[38;5;241m=\u001B[39m _create_caps(capabilities)\n",
       "\u001B[0;32m--> 292\u001B[0m response \u001B[38;5;241m=\u001B[39m \u001B[38;5;28mself\u001B[39m\u001B[38;5;241m.\u001B[39mexecute(Command\u001B[38;5;241m.\u001B[39mNEW_SESSION, caps)[\u001B[38;5;124m\"\u001B[39m\u001B[38;5;124mvalue\u001B[39m\u001B[38;5;124m\"\u001B[39m]\n",
       "\u001B[1;32m    293\u001B[0m \u001B[38;5;28mself\u001B[39m\u001B[38;5;241m.\u001B[39msession_id \u001B[38;5;241m=\u001B[39m response\u001B[38;5;241m.\u001B[39mget(\u001B[38;5;124m\"\u001B[39m\u001B[38;5;124msessionId\u001B[39m\u001B[38;5;124m\"\u001B[39m)\n",
       "\u001B[1;32m    294\u001B[0m \u001B[38;5;28mself\u001B[39m\u001B[38;5;241m.\u001B[39mcaps \u001B[38;5;241m=\u001B[39m response\u001B[38;5;241m.\u001B[39mget(\u001B[38;5;124m\"\u001B[39m\u001B[38;5;124mcapabilities\u001B[39m\u001B[38;5;124m\"\u001B[39m)\n",
       "\n",
       "File \u001B[0;32m/local_disk0/.ephemeral_nfs/envs/pythonEnv-31de2ece-121d-4be7-9907-c5648bcd40da/lib/python3.11/site-packages/selenium/webdriver/remote/webdriver.py:347\u001B[0m, in \u001B[0;36mWebDriver.execute\u001B[0;34m(self, driver_command, params)\u001B[0m\n",
       "\u001B[1;32m    345\u001B[0m response \u001B[38;5;241m=\u001B[39m \u001B[38;5;28mself\u001B[39m\u001B[38;5;241m.\u001B[39mcommand_executor\u001B[38;5;241m.\u001B[39mexecute(driver_command, params)\n",
       "\u001B[1;32m    346\u001B[0m \u001B[38;5;28;01mif\u001B[39;00m response:\n",
       "\u001B[0;32m--> 347\u001B[0m     \u001B[38;5;28mself\u001B[39m\u001B[38;5;241m.\u001B[39merror_handler\u001B[38;5;241m.\u001B[39mcheck_response(response)\n",
       "\u001B[1;32m    348\u001B[0m     response[\u001B[38;5;124m\"\u001B[39m\u001B[38;5;124mvalue\u001B[39m\u001B[38;5;124m\"\u001B[39m] \u001B[38;5;241m=\u001B[39m \u001B[38;5;28mself\u001B[39m\u001B[38;5;241m.\u001B[39m_unwrap_value(response\u001B[38;5;241m.\u001B[39mget(\u001B[38;5;124m\"\u001B[39m\u001B[38;5;124mvalue\u001B[39m\u001B[38;5;124m\"\u001B[39m, \u001B[38;5;28;01mNone\u001B[39;00m))\n",
       "\u001B[1;32m    349\u001B[0m     \u001B[38;5;28;01mreturn\u001B[39;00m response\n",
       "\n",
       "File \u001B[0;32m/local_disk0/.ephemeral_nfs/envs/pythonEnv-31de2ece-121d-4be7-9907-c5648bcd40da/lib/python3.11/site-packages/selenium/webdriver/remote/errorhandler.py:229\u001B[0m, in \u001B[0;36mErrorHandler.check_response\u001B[0;34m(self, response)\u001B[0m\n",
       "\u001B[1;32m    227\u001B[0m         alert_text \u001B[38;5;241m=\u001B[39m value[\u001B[38;5;124m\"\u001B[39m\u001B[38;5;124malert\u001B[39m\u001B[38;5;124m\"\u001B[39m]\u001B[38;5;241m.\u001B[39mget(\u001B[38;5;124m\"\u001B[39m\u001B[38;5;124mtext\u001B[39m\u001B[38;5;124m\"\u001B[39m)\n",
       "\u001B[1;32m    228\u001B[0m     \u001B[38;5;28;01mraise\u001B[39;00m exception_class(message, screen, stacktrace, alert_text)  \u001B[38;5;66;03m# type: ignore[call-arg]  # mypy is not smart enough here\u001B[39;00m\n",
       "\u001B[0;32m--> 229\u001B[0m \u001B[38;5;28;01mraise\u001B[39;00m exception_class(message, screen, stacktrace)\n",
       "\n",
       "\u001B[0;31mSessionNotCreatedException\u001B[0m: Message: session not created: Chrome failed to start: exited normally.\n",
       "  (chrome not reachable)\n",
       "  (The process started from chrome location /root/.cache/selenium/chrome/linux64/123.0.6312.86/chrome is no longer running, so ChromeDriver is assuming that Chrome has crashed.)\n",
       "Stacktrace:\n",
       "#0 0x560c8d6f48a3 <unknown>\n",
       "#1 0x560c8d3ea8c6 <unknown>\n",
       "#2 0x560c8d41ed34 <unknown>\n",
       "#3 0x560c8d41ad3d <unknown>\n",
       "#4 0x560c8d463aed <unknown>\n",
       "#5 0x560c8d457343 <unknown>\n",
       "#6 0x560c8d428593 <unknown>\n",
       "#7 0x560c8d428f5e <unknown>\n",
       "#8 0x560c8d6b888b <unknown>\n",
       "#9 0x560c8d6bc7e5 <unknown>\n",
       "#10 0x560c8d6a65b1 <unknown>\n",
       "#11 0x560c8d6bd372 <unknown>\n",
       "#12 0x560c8d68b8bf <unknown>\n",
       "#13 0x560c8d6e3768 <unknown>\n",
       "#14 0x560c8d6e393b <unknown>\n",
       "#15 0x560c8d6f39f4 <unknown>\n",
       "#16 0x7f0d4dbedac3 <unknown>\n"
      ]
     },
     "metadata": {
      "application/vnd.databricks.v1+output": {
       "addedWidgets": {},
       "arguments": {},
       "datasetInfos": [],
       "jupyterProps": {
        "ename": "SessionNotCreatedException",
        "evalue": "Message: session not created: Chrome failed to start: exited normally.\n  (chrome not reachable)\n  (The process started from chrome location /root/.cache/selenium/chrome/linux64/123.0.6312.86/chrome is no longer running, so ChromeDriver is assuming that Chrome has crashed.)\nStacktrace:\n#0 0x560c8d6f48a3 <unknown>\n#1 0x560c8d3ea8c6 <unknown>\n#2 0x560c8d41ed34 <unknown>\n#3 0x560c8d41ad3d <unknown>\n#4 0x560c8d463aed <unknown>\n#5 0x560c8d457343 <unknown>\n#6 0x560c8d428593 <unknown>\n#7 0x560c8d428f5e <unknown>\n#8 0x560c8d6b888b <unknown>\n#9 0x560c8d6bc7e5 <unknown>\n#10 0x560c8d6a65b1 <unknown>\n#11 0x560c8d6bd372 <unknown>\n#12 0x560c8d68b8bf <unknown>\n#13 0x560c8d6e3768 <unknown>\n#14 0x560c8d6e393b <unknown>\n#15 0x560c8d6f39f4 <unknown>\n#16 0x7f0d4dbedac3 <unknown>\n"
       },
       "metadata": {
        "errorSummary": "<span class='ansi-red-fg'>SessionNotCreatedException</span>: Message: session not created: Chrome failed to start: exited normally.\n  (chrome not reachable)\n  (The process started from chrome location /root/.cache/selenium/chrome/linux64/123.0.6312.86/chrome is no longer running, so ChromeDriver is assuming that Chrome has crashed.)\nStacktrace:\n#0 0x560c8d6f48a3 <unknown>\n#1 0x560c8d3ea8c6 <unknown>\n#2 0x560c8d41ed34 <unknown>\n#3 0x560c8d41ad3d <unknown>\n#4 0x560c8d463aed <unknown>\n#5 0x560c8d457343 <unknown>\n#6 0x560c8d428593 <unknown>\n#7 0x560c8d428f5e <unknown>\n#8 0x560c8d6b888b <unknown>\n#9 0x560c8d6bc7e5 <unknown>\n#10 0x560c8d6a65b1 <unknown>\n#11 0x560c8d6bd372 <unknown>\n#12 0x560c8d68b8bf <unknown>\n#13 0x560c8d6e3768 <unknown>\n#14 0x560c8d6e393b <unknown>\n#15 0x560c8d6f39f4 <unknown>\n#16 0x7f0d4dbedac3 <unknown>\n"
       },
       "removedWidgets": [],
       "sqlProps": null,
       "stackFrames": [
        "\u001B[0;31m---------------------------------------------------------------------------\u001B[0m",
        "\u001B[0;31mSessionNotCreatedException\u001B[0m                Traceback (most recent call last)",
        "File \u001B[0;32m<command-1589088060930851>, line 14\u001B[0m\n\u001B[1;32m     11\u001B[0m chrome_options\u001B[38;5;241m.\u001B[39madd_argument(\u001B[38;5;124m\"\u001B[39m\u001B[38;5;124m--v=1\u001B[39m\u001B[38;5;124m\"\u001B[39m)\n\u001B[1;32m     13\u001B[0m \u001B[38;5;66;03m###Se crea el driver que navegará de forma automatizada en chrome y se accede a la página web\u001B[39;00m\n\u001B[0;32m---> 14\u001B[0m driver \u001B[38;5;241m=\u001B[39m webdriver\u001B[38;5;241m.\u001B[39mChrome(options\u001B[38;5;241m=\u001B[39mchrome_options)\n\u001B[1;32m     15\u001B[0m driver\u001B[38;5;241m.\u001B[39mget(\u001B[38;5;124m\"\u001B[39m\u001B[38;5;124mhttps://www.health.ny.gov/statistics/cancer/registry/appendix/neighborhoodpop.htm\u001B[39m\u001B[38;5;124m\"\u001B[39m)\n",
        "File \u001B[0;32m/local_disk0/.ephemeral_nfs/envs/pythonEnv-31de2ece-121d-4be7-9907-c5648bcd40da/lib/python3.11/site-packages/selenium/webdriver/chrome/webdriver.py:45\u001B[0m, in \u001B[0;36mWebDriver.__init__\u001B[0;34m(self, options, service, keep_alive)\u001B[0m\n\u001B[1;32m     42\u001B[0m service \u001B[38;5;241m=\u001B[39m service \u001B[38;5;28;01mif\u001B[39;00m service \u001B[38;5;28;01melse\u001B[39;00m Service()\n\u001B[1;32m     43\u001B[0m options \u001B[38;5;241m=\u001B[39m options \u001B[38;5;28;01mif\u001B[39;00m options \u001B[38;5;28;01melse\u001B[39;00m Options()\n\u001B[0;32m---> 45\u001B[0m \u001B[38;5;28msuper\u001B[39m()\u001B[38;5;241m.\u001B[39m\u001B[38;5;21m__init__\u001B[39m(\n\u001B[1;32m     46\u001B[0m     browser_name\u001B[38;5;241m=\u001B[39mDesiredCapabilities\u001B[38;5;241m.\u001B[39mCHROME[\u001B[38;5;124m\"\u001B[39m\u001B[38;5;124mbrowserName\u001B[39m\u001B[38;5;124m\"\u001B[39m],\n\u001B[1;32m     47\u001B[0m     vendor_prefix\u001B[38;5;241m=\u001B[39m\u001B[38;5;124m\"\u001B[39m\u001B[38;5;124mgoog\u001B[39m\u001B[38;5;124m\"\u001B[39m,\n\u001B[1;32m     48\u001B[0m     options\u001B[38;5;241m=\u001B[39moptions,\n\u001B[1;32m     49\u001B[0m     service\u001B[38;5;241m=\u001B[39mservice,\n\u001B[1;32m     50\u001B[0m     keep_alive\u001B[38;5;241m=\u001B[39mkeep_alive,\n\u001B[1;32m     51\u001B[0m )\n",
        "File \u001B[0;32m/local_disk0/.ephemeral_nfs/envs/pythonEnv-31de2ece-121d-4be7-9907-c5648bcd40da/lib/python3.11/site-packages/selenium/webdriver/chromium/webdriver.py:61\u001B[0m, in \u001B[0;36mChromiumDriver.__init__\u001B[0;34m(self, browser_name, vendor_prefix, options, service, keep_alive)\u001B[0m\n\u001B[1;32m     52\u001B[0m executor \u001B[38;5;241m=\u001B[39m ChromiumRemoteConnection(\n\u001B[1;32m     53\u001B[0m     remote_server_addr\u001B[38;5;241m=\u001B[39m\u001B[38;5;28mself\u001B[39m\u001B[38;5;241m.\u001B[39mservice\u001B[38;5;241m.\u001B[39mservice_url,\n\u001B[1;32m     54\u001B[0m     browser_name\u001B[38;5;241m=\u001B[39mbrowser_name,\n\u001B[0;32m   (...)\u001B[0m\n\u001B[1;32m     57\u001B[0m     ignore_proxy\u001B[38;5;241m=\u001B[39moptions\u001B[38;5;241m.\u001B[39m_ignore_local_proxy,\n\u001B[1;32m     58\u001B[0m )\n\u001B[1;32m     60\u001B[0m \u001B[38;5;28;01mtry\u001B[39;00m:\n\u001B[0;32m---> 61\u001B[0m     \u001B[38;5;28msuper\u001B[39m()\u001B[38;5;241m.\u001B[39m\u001B[38;5;21m__init__\u001B[39m(command_executor\u001B[38;5;241m=\u001B[39mexecutor, options\u001B[38;5;241m=\u001B[39moptions)\n\u001B[1;32m     62\u001B[0m \u001B[38;5;28;01mexcept\u001B[39;00m \u001B[38;5;167;01mException\u001B[39;00m:\n\u001B[1;32m     63\u001B[0m     \u001B[38;5;28mself\u001B[39m\u001B[38;5;241m.\u001B[39mquit()\n",
        "File \u001B[0;32m/local_disk0/.ephemeral_nfs/envs/pythonEnv-31de2ece-121d-4be7-9907-c5648bcd40da/lib/python3.11/site-packages/selenium/webdriver/remote/webdriver.py:208\u001B[0m, in \u001B[0;36mWebDriver.__init__\u001B[0;34m(self, command_executor, keep_alive, file_detector, options)\u001B[0m\n\u001B[1;32m    206\u001B[0m \u001B[38;5;28mself\u001B[39m\u001B[38;5;241m.\u001B[39m_authenticator_id \u001B[38;5;241m=\u001B[39m \u001B[38;5;28;01mNone\u001B[39;00m\n\u001B[1;32m    207\u001B[0m \u001B[38;5;28mself\u001B[39m\u001B[38;5;241m.\u001B[39mstart_client()\n\u001B[0;32m--> 208\u001B[0m \u001B[38;5;28mself\u001B[39m\u001B[38;5;241m.\u001B[39mstart_session(capabilities)\n",
        "File \u001B[0;32m/local_disk0/.ephemeral_nfs/envs/pythonEnv-31de2ece-121d-4be7-9907-c5648bcd40da/lib/python3.11/site-packages/selenium/webdriver/remote/webdriver.py:292\u001B[0m, in \u001B[0;36mWebDriver.start_session\u001B[0;34m(self, capabilities)\u001B[0m\n\u001B[1;32m    285\u001B[0m \u001B[38;5;250m\u001B[39m\u001B[38;5;124;03m\"\"\"Creates a new session with the desired capabilities.\u001B[39;00m\n\u001B[1;32m    286\u001B[0m \n\u001B[1;32m    287\u001B[0m \u001B[38;5;124;03m:Args:\u001B[39;00m\n\u001B[1;32m    288\u001B[0m \u001B[38;5;124;03m - capabilities - a capabilities dict to start the session with.\u001B[39;00m\n\u001B[1;32m    289\u001B[0m \u001B[38;5;124;03m\"\"\"\u001B[39;00m\n\u001B[1;32m    291\u001B[0m caps \u001B[38;5;241m=\u001B[39m _create_caps(capabilities)\n\u001B[0;32m--> 292\u001B[0m response \u001B[38;5;241m=\u001B[39m \u001B[38;5;28mself\u001B[39m\u001B[38;5;241m.\u001B[39mexecute(Command\u001B[38;5;241m.\u001B[39mNEW_SESSION, caps)[\u001B[38;5;124m\"\u001B[39m\u001B[38;5;124mvalue\u001B[39m\u001B[38;5;124m\"\u001B[39m]\n\u001B[1;32m    293\u001B[0m \u001B[38;5;28mself\u001B[39m\u001B[38;5;241m.\u001B[39msession_id \u001B[38;5;241m=\u001B[39m response\u001B[38;5;241m.\u001B[39mget(\u001B[38;5;124m\"\u001B[39m\u001B[38;5;124msessionId\u001B[39m\u001B[38;5;124m\"\u001B[39m)\n\u001B[1;32m    294\u001B[0m \u001B[38;5;28mself\u001B[39m\u001B[38;5;241m.\u001B[39mcaps \u001B[38;5;241m=\u001B[39m response\u001B[38;5;241m.\u001B[39mget(\u001B[38;5;124m\"\u001B[39m\u001B[38;5;124mcapabilities\u001B[39m\u001B[38;5;124m\"\u001B[39m)\n",
        "File \u001B[0;32m/local_disk0/.ephemeral_nfs/envs/pythonEnv-31de2ece-121d-4be7-9907-c5648bcd40da/lib/python3.11/site-packages/selenium/webdriver/remote/webdriver.py:347\u001B[0m, in \u001B[0;36mWebDriver.execute\u001B[0;34m(self, driver_command, params)\u001B[0m\n\u001B[1;32m    345\u001B[0m response \u001B[38;5;241m=\u001B[39m \u001B[38;5;28mself\u001B[39m\u001B[38;5;241m.\u001B[39mcommand_executor\u001B[38;5;241m.\u001B[39mexecute(driver_command, params)\n\u001B[1;32m    346\u001B[0m \u001B[38;5;28;01mif\u001B[39;00m response:\n\u001B[0;32m--> 347\u001B[0m     \u001B[38;5;28mself\u001B[39m\u001B[38;5;241m.\u001B[39merror_handler\u001B[38;5;241m.\u001B[39mcheck_response(response)\n\u001B[1;32m    348\u001B[0m     response[\u001B[38;5;124m\"\u001B[39m\u001B[38;5;124mvalue\u001B[39m\u001B[38;5;124m\"\u001B[39m] \u001B[38;5;241m=\u001B[39m \u001B[38;5;28mself\u001B[39m\u001B[38;5;241m.\u001B[39m_unwrap_value(response\u001B[38;5;241m.\u001B[39mget(\u001B[38;5;124m\"\u001B[39m\u001B[38;5;124mvalue\u001B[39m\u001B[38;5;124m\"\u001B[39m, \u001B[38;5;28;01mNone\u001B[39;00m))\n\u001B[1;32m    349\u001B[0m     \u001B[38;5;28;01mreturn\u001B[39;00m response\n",
        "File \u001B[0;32m/local_disk0/.ephemeral_nfs/envs/pythonEnv-31de2ece-121d-4be7-9907-c5648bcd40da/lib/python3.11/site-packages/selenium/webdriver/remote/errorhandler.py:229\u001B[0m, in \u001B[0;36mErrorHandler.check_response\u001B[0;34m(self, response)\u001B[0m\n\u001B[1;32m    227\u001B[0m         alert_text \u001B[38;5;241m=\u001B[39m value[\u001B[38;5;124m\"\u001B[39m\u001B[38;5;124malert\u001B[39m\u001B[38;5;124m\"\u001B[39m]\u001B[38;5;241m.\u001B[39mget(\u001B[38;5;124m\"\u001B[39m\u001B[38;5;124mtext\u001B[39m\u001B[38;5;124m\"\u001B[39m)\n\u001B[1;32m    228\u001B[0m     \u001B[38;5;28;01mraise\u001B[39;00m exception_class(message, screen, stacktrace, alert_text)  \u001B[38;5;66;03m# type: ignore[call-arg]  # mypy is not smart enough here\u001B[39;00m\n\u001B[0;32m--> 229\u001B[0m \u001B[38;5;28;01mraise\u001B[39;00m exception_class(message, screen, stacktrace)\n",
        "\u001B[0;31mSessionNotCreatedException\u001B[0m: Message: session not created: Chrome failed to start: exited normally.\n  (chrome not reachable)\n  (The process started from chrome location /root/.cache/selenium/chrome/linux64/123.0.6312.86/chrome is no longer running, so ChromeDriver is assuming that Chrome has crashed.)\nStacktrace:\n#0 0x560c8d6f48a3 <unknown>\n#1 0x560c8d3ea8c6 <unknown>\n#2 0x560c8d41ed34 <unknown>\n#3 0x560c8d41ad3d <unknown>\n#4 0x560c8d463aed <unknown>\n#5 0x560c8d457343 <unknown>\n#6 0x560c8d428593 <unknown>\n#7 0x560c8d428f5e <unknown>\n#8 0x560c8d6b888b <unknown>\n#9 0x560c8d6bc7e5 <unknown>\n#10 0x560c8d6a65b1 <unknown>\n#11 0x560c8d6bd372 <unknown>\n#12 0x560c8d68b8bf <unknown>\n#13 0x560c8d6e3768 <unknown>\n#14 0x560c8d6e393b <unknown>\n#15 0x560c8d6f39f4 <unknown>\n#16 0x7f0d4dbedac3 <unknown>\n"
       ],
       "type": "baseError"
      }
     },
     "output_type": "display_data"
    }
   ],
   "source": [
    "from selenium import webdriver\n",
    "from selenium.webdriver.chrome.options import Options\n",
    "\n",
    "chrome_options = Options()\n",
    "chrome_options.add_argument(\"--headless\")\n",
    "chrome_options.add_argument(\"--no-sandbox\")\n",
    "chrome_options.add_argument(\"--disable-dev-shm-usage\")\n",
    "chrome_options.add_argument(\"--disable-gpu\")\n",
    "chrome_options.add_argument(\"--remote-debugging-port=9222\")\n",
    "chrome_options.add_argument(\"--enable-logging\")\n",
    "chrome_options.add_argument(\"--v=1\")\n",
    "\n",
    "###Se crea el driver que navegará de forma automatizada en chrome y se accede a la página web\n",
    "driver = webdriver.Chrome(options=chrome_options)\n",
    "driver.get(\"https://www.health.ny.gov/statistics/cancer/registry/appendix/neighborhoodpop.htm\")"
   ]
  },
  {
   "cell_type": "code",
   "execution_count": 0,
   "metadata": {
    "application/vnd.databricks.v1+cell": {
     "cellMetadata": {},
     "inputWidgets": {},
     "nuid": "67c5fa32-b5a0-43e8-9dbe-f494f3e0295e",
     "showTitle": false,
     "title": ""
    }
   },
   "outputs": [],
   "source": [
    "###En esta celda se realiza el proceso de recolección de la API a través de Selenium y del Xpath de la página web\n",
    "headers = [\"Borough\", \"region\", \"Males\", \"Females\", \"Total Population\"]\n",
    "data = []\n",
    "for j in range(1, 56):\n",
    "    union=[]\n",
    "    th=[]\n",
    "    td=[]\n",
    "    if j <= 10:\n",
    "        th.append(driver.find_element(By.XPATH,f\"/html/body/div[2]/div/div[2]/table/tbody/tr[{1}]/th[1]\").text)\n",
    "    if j >= 11 and j < 29:\n",
    "        th.append(driver.find_element(By.XPATH,f\"/html/body/div[2]/div/div[2]/table/tbody/tr[{11}]/th[1]\").text)\n",
    "    if j >= 29 and j < 39:\n",
    "        th.append(driver.find_element(By.XPATH,f\"/html/body/div[2]/div/div[2]/table/tbody/tr[{29}]/th[1]\").text)\n",
    "    if j >= 39 and j < 53:\n",
    "        th.append(driver.find_element(By.XPATH,f\"/html/body/div[2]/div/div[2]/table/tbody/tr[{39}]/th[1]\").text)\n",
    "    if j >= 53:\n",
    "        th.append(driver.find_element(By.XPATH,f\"/html/body/div[2]/div/div[2]/table/tbody/tr[{53}]/th[1]\").text)\n",
    "    for i in range(1, 4):\n",
    "        if i != 3:\n",
    "            if i != 1:\n",
    "                th.append(driver.find_element(By.XPATH,f\"/html/body/div[2]/div/div[2]/table/tbody/tr[{j}]/th[{i}]\").text)\n",
    "            td.append(driver.find_element(By.XPATH,f\"/html/body/div[2]/div/div[2]/table/tbody/tr[{j}]/td[{i}]\").text)\n",
    "        else:\n",
    "            td.append(driver.find_element(By.XPATH,f\"/html/body/div[2]/div/div[2]/table/tbody/tr[{j}]/td[{i}]\").text)\n",
    "            union=th+td\n",
    "            data.append(union)\n",
    "dfBono = pd.DataFrame(data, columns=headers)"
   ]
  },
  {
   "cell_type": "code",
   "execution_count": 0,
   "metadata": {
    "application/vnd.databricks.v1+cell": {
     "cellMetadata": {},
     "inputWidgets": {},
     "nuid": "0e42b789-2087-40d3-82b1-e25f843186f5",
     "showTitle": false,
     "title": ""
    }
   },
   "outputs": [],
   "source": [
    "dfBono.head()"
   ]
  },
  {
   "cell_type": "code",
   "execution_count": 0,
   "metadata": {
    "application/vnd.databricks.v1+cell": {
     "cellMetadata": {},
     "inputWidgets": {},
     "nuid": "1dcbe542-eac7-4ec5-9b16-1946ea6143a2",
     "showTitle": false,
     "title": ""
    }
   },
   "outputs": [],
   "source": [
    "###La idea de esta celda es actualizar los nombres del dataframe que se tiene del web scrapping para que los nombres de los distritos de nueva york sea igual tanto en el df como en GeoJSON que ayudará a graficar\n",
    "nombre_mapper = {\n",
    "    'Richmond (Staten Island)': 'Staten Island',\n",
    "    'New York (Manhattan)': 'Manhattan',\n",
    "    'Kings (Brooklyn)': 'Brooklyn'\n",
    "}\n",
    "\n",
    "dfBono['Borough'] = dfBono['Borough'].replace(nombre_mapper)"
   ]
  },
  {
   "cell_type": "code",
   "execution_count": 0,
   "metadata": {
    "application/vnd.databricks.v1+cell": {
     "cellMetadata": {},
     "inputWidgets": {},
     "nuid": "b83202e5-8185-4123-b670-9017b99d4c21",
     "showTitle": false,
     "title": ""
    }
   },
   "outputs": [],
   "source": [
    "###Debido al formato de la tabla de la página web se tuvo que cambiar los valores de los atributos que son numéricos ya que al contener \",\" se identifica como un string y se tuvo que quitar para poder operar con ellos\n",
    "dfBono['Males'] = dfBono['Males'].str.replace(',', '').astype(float)\n",
    "dfBono['Females'] = dfBono['Females'].str.replace(',', '').astype(float)\n",
    "\n",
    "# Sumar las columnas 'Males' y 'Females' para obtener 'Total Population'\n",
    "dfBono['Total Population'] = dfBono['Males'] + dfBono['Females']\n",
    "\n",
    "# Ahora realiza la suma de población por 'Borough'\n",
    "df_suma_poblacion = dfBono.groupby('Borough')['Total Population'].sum().reset_index()"
   ]
  },
  {
   "cell_type": "code",
   "execution_count": 0,
   "metadata": {
    "application/vnd.databricks.v1+cell": {
     "cellMetadata": {},
     "inputWidgets": {},
     "nuid": "ec448c7d-5b9a-47ae-8985-ddde6a259072",
     "showTitle": false,
     "title": ""
    }
   },
   "outputs": [],
   "source": [
    "import geopandas as gpd\n",
    "import matplotlib.pyplot as plt\n",
    "import mapclassify\n",
    "\n",
    "###Se usa el enlace al GeoJSON que se encuentra en el repositorio de GitHub y de ahí extraer las formas geométricas de los distritos de nueva york\n",
    "url = 'https://raw.githubusercontent.com/TommyDS2005/Proyecto-Procesamiento-de-Datos/main/new-york-city-boroughs.geojson'\n",
    "gdf = gpd.read_file(url)"
   ]
  },
  {
   "cell_type": "code",
   "execution_count": 0,
   "metadata": {
    "application/vnd.databricks.v1+cell": {
     "cellMetadata": {},
     "inputWidgets": {},
     "nuid": "5208b1a9-b954-4b3d-ad41-fbd51b6d2f04",
     "showTitle": false,
     "title": ""
    }
   },
   "outputs": [],
   "source": [
    "###Se JUntan en un solo dataset los atributos de df_suma_poblacion y de gdf para que se tenga en una sola tabla los atributos de población y de forma geométrica, es como un Join\n",
    "gdf_merge = gdf.merge(df_suma_poblacion, left_on='name', right_on='Borough')\n",
    "\n",
    "gdf_merge['Total Population'] = pd.to_numeric(gdf_merge['Total Population'], errors='coerce')\n",
    "\n",
    "# Crear etiquetas con el nombre del distrito y la población total\n",
    "gdf_merge['label'] = gdf_merge.apply(lambda x: f\"{x['Borough']}\\n{int(x['Total Population']):,}\", axis=1)\n",
    "\n",
    "# Graficar el GeoDataFrame con la columna 'Total Population'\n",
    "fig, ax = plt.subplots(1, 1, figsize=(15, 10))\n",
    "gdf_merge.plot(column='Total Population', cmap='OrRd', linewidth=0.8, edgecolor='0.8', ax=ax)\n",
    "# Añadir las etiquetas a la figura\n",
    "for idx, row in gdf_merge.iterrows():\n",
    "    # El color del texto depende de la luminosidad del color del fondo\n",
    "    # Utilizamos una simple estimación de la luminosidad para decidir el color del texto\n",
    "    # basado en la población total (esto podría no ser exacto y es una simplificación)\n",
    "    if row['Total Population'] > 2200000:\n",
    "        text_color = 'white'\n",
    "    else:\n",
    "        text_color = 'black'\n",
    "    \n",
    "    plt.annotate(text=row['label'], xy=(row['geometry'].centroid.x, row['geometry'].centroid.y),\n",
    "                 ha='center', va='center', fontsize=8, color = text_color)\n",
    "\n",
    "# Ajustar la posición del título\n",
    "ax.set_title('Population Heat Map of New York City Boroughs', fontdict={'fontsize': 20}, loc='center')\n",
    "\n",
    "# Desactivar los ejes\n",
    "ax.set_axis_off()\n",
    "\n",
    "# Ajustar el layout y mostrar la figura\n",
    "plt.tight_layout()\n",
    "plt.show()"
   ]
  }
 ],
 "metadata": {
  "application/vnd.databricks.v1+notebook": {
   "dashboards": [],
   "language": "python",
   "notebookMetadata": {
    "pythonIndentUnit": 4
   },
   "notebookName": "Proyecto Procesamiento de datos Entrega-1",
   "widgets": {}
  }
 },
 "nbformat": 4,
 "nbformat_minor": 0
}
